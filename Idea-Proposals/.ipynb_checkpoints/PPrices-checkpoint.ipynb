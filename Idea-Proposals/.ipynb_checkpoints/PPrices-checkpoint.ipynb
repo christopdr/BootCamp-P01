{
 "cells": [
  {
   "cell_type": "code",
   "execution_count": null,
   "metadata": {},
   "outputs": [],
   "source": [
    "import requests\n",
    "import json\n",
    "import pandas as pd"
   ]
  },
  {
   "cell_type": "code",
   "execution_count": null,
   "metadata": {},
   "outputs": [],
   "source": [
    "url = \"https://api.datos.gob.mx/v1/profeco.precios\"\n",
    "response = requests.get(url)\n",
    "print(\"Server Response: \" + str(response))\n",
    "response_json = response.json()\n",
    "print(json.dumps(response_json, indent =2, sort_keys = True))\n",
    "print "
   ]
  },
  {
   "cell_type": "code",
   "execution_count": null,
   "metadata": {},
   "outputs": [],
   "source": [
    "Pagesize = response_json[\"pagination\"][\"pageSize\"]\n",
    "Totalsize = response_json[\"pagination\"][\"total\"]\n",
    "Totalsize"
   ]
  },
  {
   "cell_type": "code",
   "execution_count": null,
   "metadata": {},
   "outputs": [],
   "source": [
    "full_url = \"https://api.datos.gob.mx/v1/profeco.precios?pageSize=\"\n",
    "response = requests.get(full_url + str(Totalsize))\n",
    "response_json = response.json()\n",
    "print(json.dumps(response_json, indent =2, sort_keys = True))\n",
    "print "
   ]
  },
  {
   "cell_type": "code",
   "execution_count": null,
   "metadata": {},
   "outputs": [],
   "source": [
    "keylist = response_json.keys()\n",
    "keylist"
   ]
  },
  {
   "cell_type": "code",
   "execution_count": null,
   "metadata": {},
   "outputs": [],
   "source": [
    "for key in response_json.keys():\n",
    "    print(key)"
   ]
  },
  {
   "cell_type": "code",
   "execution_count": null,
   "metadata": {},
   "outputs": [],
   "source": []
  },
  {
   "cell_type": "code",
   "execution_count": null,
   "metadata": {},
   "outputs": [],
   "source": []
  }
 ],
 "metadata": {
  "kernelspec": {
   "display_name": "Python 3",
   "language": "python",
   "name": "python3"
  },
  "language_info": {
   "codemirror_mode": {
    "name": "ipython",
    "version": 3
   },
   "file_extension": ".py",
   "mimetype": "text/x-python",
   "name": "python",
   "nbconvert_exporter": "python",
   "pygments_lexer": "ipython3",
   "version": "3.7.0"
  }
 },
 "nbformat": 4,
 "nbformat_minor": 2
}
