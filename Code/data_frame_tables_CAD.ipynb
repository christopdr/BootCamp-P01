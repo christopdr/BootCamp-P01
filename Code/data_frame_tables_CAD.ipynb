{
 "cells": [
  {
   "cell_type": "code",
   "execution_count": 34,
   "metadata": {},
   "outputs": [],
   "source": [
    "import requests\n",
    "import json\n",
    "import pandas as pd\n",
    "from datetime import datetime\n",
    "import numpy as np\n",
    "import matplotlib.pyplot as plt"
   ]
  },
  {
   "cell_type": "code",
   "execution_count": 35,
   "metadata": {},
   "outputs": [
    {
     "data": {
      "text/html": [
       "<div>\n",
       "<style scoped>\n",
       "    .dataframe tbody tr th:only-of-type {\n",
       "        vertical-align: middle;\n",
       "    }\n",
       "\n",
       "    .dataframe tbody tr th {\n",
       "        vertical-align: top;\n",
       "    }\n",
       "\n",
       "    .dataframe thead th {\n",
       "        text-align: right;\n",
       "    }\n",
       "</style>\n",
       "<table border=\"1\" class=\"dataframe\">\n",
       "  <thead>\n",
       "    <tr style=\"text-align: right;\">\n",
       "      <th></th>\n",
       "      <th>Unnamed: 0</th>\n",
       "      <th>_id</th>\n",
       "      <th>cadenaComercial</th>\n",
       "      <th>catalogo</th>\n",
       "      <th>categoria</th>\n",
       "      <th>direccion</th>\n",
       "      <th>estado</th>\n",
       "      <th>fechaRegistro</th>\n",
       "      <th>giro</th>\n",
       "      <th>latitud</th>\n",
       "      <th>longitud</th>\n",
       "      <th>marca</th>\n",
       "      <th>municipio</th>\n",
       "      <th>nombreComercial</th>\n",
       "      <th>precio</th>\n",
       "      <th>presentacion</th>\n",
       "      <th>producto</th>\n",
       "      <th>razonSocial</th>\n",
       "      <th>rfc</th>\n",
       "    </tr>\n",
       "  </thead>\n",
       "  <tbody>\n",
       "    <tr>\n",
       "      <th>0</th>\n",
       "      <td>0</td>\n",
       "      <td>571e4c002f232201006c6cac</td>\n",
       "      <td>HIPERMERCADO SORIANA</td>\n",
       "      <td>BASICOS</td>\n",
       "      <td>TORTILLAS Y DERIVADOS DEL MAIZ</td>\n",
       "      <td>BLVD. ADOLFO LOPEZ MATEOS 1100, ESQ. CALAFIA, ...</td>\n",
       "      <td>BAJA CALIFORNIA</td>\n",
       "      <td>2015-02-10</td>\n",
       "      <td>TIENDA DE AUTOSERVICIO</td>\n",
       "      <td>32.641719</td>\n",
       "      <td>-115.469582</td>\n",
       "      <td>S/M</td>\n",
       "      <td>MEXICALI</td>\n",
       "      <td>SORIANA HIPER SUCURSAL CALAFIA</td>\n",
       "      <td>11.9</td>\n",
       "      <td>1 KG. GRANEL</td>\n",
       "      <td>TORTILLA DE MAIZ</td>\n",
       "      <td>NaN</td>\n",
       "      <td>NaN</td>\n",
       "    </tr>\n",
       "  </tbody>\n",
       "</table>\n",
       "</div>"
      ],
      "text/plain": [
       "   Unnamed: 0                       _id       cadenaComercial catalogo  \\\n",
       "0           0  571e4c002f232201006c6cac  HIPERMERCADO SORIANA  BASICOS   \n",
       "\n",
       "                        categoria  \\\n",
       "0  TORTILLAS Y DERIVADOS DEL MAIZ   \n",
       "\n",
       "                                           direccion           estado  \\\n",
       "0  BLVD. ADOLFO LOPEZ MATEOS 1100, ESQ. CALAFIA, ...  BAJA CALIFORNIA   \n",
       "\n",
       "  fechaRegistro                    giro    latitud    longitud marca  \\\n",
       "0    2015-02-10  TIENDA DE AUTOSERVICIO  32.641719 -115.469582   S/M   \n",
       "\n",
       "  municipio                 nombreComercial  precio  presentacion  \\\n",
       "0  MEXICALI  SORIANA HIPER SUCURSAL CALAFIA    11.9  1 KG. GRANEL   \n",
       "\n",
       "           producto  razonSocial  rfc  \n",
       "0  TORTILLA DE MAIZ          NaN  NaN  "
      ]
     },
     "execution_count": 35,
     "metadata": {},
     "output_type": "execute_result"
    }
   ],
   "source": [
    "raw_data = pd.read_csv('Profeco_Catalog.csv')\n",
    "raw_data.head(1)"
   ]
  },
  {
   "cell_type": "code",
   "execution_count": 36,
   "metadata": {
    "scrolled": true
   },
   "outputs": [
    {
     "data": {
      "text/html": [
       "<div>\n",
       "<style scoped>\n",
       "    .dataframe tbody tr th:only-of-type {\n",
       "        vertical-align: middle;\n",
       "    }\n",
       "\n",
       "    .dataframe tbody tr th {\n",
       "        vertical-align: top;\n",
       "    }\n",
       "\n",
       "    .dataframe thead th {\n",
       "        text-align: right;\n",
       "    }\n",
       "</style>\n",
       "<table border=\"1\" class=\"dataframe\">\n",
       "  <thead>\n",
       "    <tr style=\"text-align: right;\">\n",
       "      <th></th>\n",
       "      <th>ID</th>\n",
       "      <th>Cadena</th>\n",
       "      <th>Categoría</th>\n",
       "      <th>Estado</th>\n",
       "      <th>Fecha</th>\n",
       "      <th>Latitud</th>\n",
       "      <th>Longitud</th>\n",
       "      <th>Marca</th>\n",
       "      <th>Municipio</th>\n",
       "      <th>Precio</th>\n",
       "      <th>Presentación</th>\n",
       "      <th>Producto</th>\n",
       "    </tr>\n",
       "  </thead>\n",
       "  <tbody>\n",
       "    <tr>\n",
       "      <th>0</th>\n",
       "      <td>571e4c002f232201006c6cac</td>\n",
       "      <td>HIPERMERCADO SORIANA</td>\n",
       "      <td>TORTILLAS Y DERIVADOS DEL MAIZ</td>\n",
       "      <td>BAJA CALIFORNIA</td>\n",
       "      <td>2015-02-10</td>\n",
       "      <td>32.641719</td>\n",
       "      <td>-115.469582</td>\n",
       "      <td>S/M</td>\n",
       "      <td>MEXICALI</td>\n",
       "      <td>11.9</td>\n",
       "      <td>1 KG. GRANEL</td>\n",
       "      <td>TORTILLA DE MAIZ</td>\n",
       "    </tr>\n",
       "  </tbody>\n",
       "</table>\n",
       "</div>"
      ],
      "text/plain": [
       "                         ID                Cadena  \\\n",
       "0  571e4c002f232201006c6cac  HIPERMERCADO SORIANA   \n",
       "\n",
       "                        Categoría           Estado       Fecha    Latitud  \\\n",
       "0  TORTILLAS Y DERIVADOS DEL MAIZ  BAJA CALIFORNIA  2015-02-10  32.641719   \n",
       "\n",
       "     Longitud Marca Municipio  Precio  Presentación          Producto  \n",
       "0 -115.469582   S/M  MEXICALI    11.9  1 KG. GRANEL  TORTILLA DE MAIZ  "
      ]
     },
     "execution_count": 36,
     "metadata": {},
     "output_type": "execute_result"
    }
   ],
   "source": [
    "master_frame = raw_data.drop(columns = ['giro','razonSocial','rfc','catalogo','Unnamed: 0','direccion','nombreComercial']).reset_index(drop=True).rename(index=str, columns={\"_id\": \"ID\", \"cadenaComercial\": \"Cadena\", \"categoria\": \"Categoría\", \"estado\": \"Estado\", \"fechaRegistro\": \"Fecha\", \"latitud\": \"Latitud\", \"longitud\": \"Longitud\", \"marca\": \"Marca\", \"municipio\": \"Municipio\", \"precio\": \"Precio\", \"presentacion\": \"Presentación\", \"producto\": \"Producto\"})\n",
    "master_frame.head(1)"
   ]
  },
  {
   "cell_type": "code",
   "execution_count": 37,
   "metadata": {},
   "outputs": [
    {
     "data": {
      "text/plain": [
       "Fecha\n",
       "2012-01-10      9063\n",
       "2013-01-10     40539\n",
       "2015-02-10    131192\n",
       "2016-05-10     38788\n",
       "Name: Fecha, dtype: int64"
      ]
     },
     "execution_count": 37,
     "metadata": {},
     "output_type": "execute_result"
    }
   ],
   "source": [
    "year_registry = master_frame.groupby('Fecha')['Fecha'].count()\n",
    "year_registry"
   ]
  },
  {
   "cell_type": "code",
   "execution_count": 61,
   "metadata": {
    "scrolled": true
   },
   "outputs": [
    {
     "data": {
      "text/plain": [
       "Categoría\n",
       "MEDICAMENTOS                         10711\n",
       "APARATOS ELECTRICOS                   2968\n",
       "ARTS. PARA EL CUIDADO PERSONAL        2252\n",
       "APARATOS ELECTRONICOS                 2017\n",
       "DERIVADOS DE LECHE                    1673\n",
       "CARNES FRIAS SECAS Y EMBUTIDOS        1563\n",
       "DETERGENTES Y PRODUCTOS SIMILARES     1443\n",
       "REFRESCOS ENVASADOS                   1410\n",
       "FRUTAS Y LEGUMBRES PROCESADAS         1207\n",
       "HORTALIZAS FRESCAS                    1169\n",
       "Name: Categoría, dtype: int64"
      ]
     },
     "execution_count": 61,
     "metadata": {},
     "output_type": "execute_result"
    }
   ],
   "source": [
    "master_2015frame = master_frame[(master_frame['Fecha'] == '2016-05-10')]\n",
    "#master_2015frame\n",
    "category = master_2015frame.groupby('Categoría')['Categoría'].count().nlargest(10)\n",
    "category"
   ]
  },
  {
   "cell_type": "code",
   "execution_count": 62,
   "metadata": {},
   "outputs": [
    {
     "data": {
      "text/plain": [
       "['TLAXCALA',\n",
       " 'YUCATÁN',\n",
       " 'MÉXICO',\n",
       " 'QUINTANA ROO',\n",
       " 'NUEVO LEÓN',\n",
       " 'SONORA',\n",
       " 'JALISCO',\n",
       " 'PUEBLA',\n",
       " 'VERACRUZ DE IGNACIO DE LA LLAVE',\n",
       " 'COLIMA',\n",
       " 'GUANAJUATO',\n",
       " 'TABASCO',\n",
       " 'DISTRITO FEDERAL',\n",
       " 'AGUASCALIENTES',\n",
       " 'BAJA CALIFORNIA',\n",
       " 'BAJA CALIFORNIA SUR',\n",
       " 'CAMPECHE',\n",
       " 'DURANGO',\n",
       " 'CHIAPAS',\n",
       " 'CHIHUAHUA',\n",
       " 'GUERRERO',\n",
       " 'TAMAULIPAS',\n",
       " 'MICHOACÁN DE OCAMPO',\n",
       " 'COAHUILA DE ZARAGOZA',\n",
       " 'MORELOS']"
      ]
     },
     "execution_count": 62,
     "metadata": {},
     "output_type": "execute_result"
    }
   ],
   "source": [
    "#Estados = Master[\"Estado\"].nunique()\n",
    "Estados = master_2015frame.drop_duplicates(\"Estado\")\n",
    "#Estados.head(100)\n",
    "Estados = Estados[\"Estado\"].tolist()\n",
    "Estados"
   ]
  },
  {
   "cell_type": "code",
   "execution_count": 102,
   "metadata": {
    "scrolled": false
   },
   "outputs": [
    {
     "data": {
      "text/plain": [
       "10711"
      ]
     },
     "execution_count": 102,
     "metadata": {},
     "output_type": "execute_result"
    }
   ],
   "source": [
    "category_state = master_2015frame[master_2015frame['Categoría'] == 'MEDICAMENTOS'].groupby(\\\n",
    "                            ['Estado', 'Categoría'])['Categoría'].count().nlargest(5)\n",
    "#category_state\n",
    "category_total = master_2015frame[master_2015frame['Categoría'] == 'MEDICAMENTOS'].count()\n",
    "category_total = category_total['ID']\n",
    "category_total"
   ]
  },
  {
   "cell_type": "code",
   "execution_count": 103,
   "metadata": {},
   "outputs": [],
   "source": [
    "#master_frame.groupby(master_frame['Fecha'].date.dt.year)"
   ]
  },
  {
   "cell_type": "markdown",
   "metadata": {},
   "source": [
    "## Gráfica 3\n",
    "### Count de categoría por Estado\n",
    "\n",
    "Aquí tienes que hacer un chart con el número de categorías por Top 5 de estados - Eje X = Estado Eje Y = Categoría"
   ]
  },
  {
   "cell_type": "code",
   "execution_count": 110,
   "metadata": {},
   "outputs": [
    {
     "data": {
      "text/html": [
       "<div>\n",
       "<style scoped>\n",
       "    .dataframe tbody tr th:only-of-type {\n",
       "        vertical-align: middle;\n",
       "    }\n",
       "\n",
       "    .dataframe tbody tr th {\n",
       "        vertical-align: top;\n",
       "    }\n",
       "\n",
       "    .dataframe thead th {\n",
       "        text-align: right;\n",
       "    }\n",
       "</style>\n",
       "<table border=\"1\" class=\"dataframe\">\n",
       "  <thead>\n",
       "    <tr style=\"text-align: right;\">\n",
       "      <th></th>\n",
       "      <th>Estado</th>\n",
       "      <th>Categoría</th>\n",
       "    </tr>\n",
       "  </thead>\n",
       "  <tbody>\n",
       "    <tr>\n",
       "      <th>0</th>\n",
       "      <td>MÉXICO</td>\n",
       "      <td>1551</td>\n",
       "    </tr>\n",
       "    <tr>\n",
       "      <th>1</th>\n",
       "      <td>DISTRITO FEDERAL</td>\n",
       "      <td>901</td>\n",
       "    </tr>\n",
       "    <tr>\n",
       "      <th>2</th>\n",
       "      <td>GUANAJUATO</td>\n",
       "      <td>865</td>\n",
       "    </tr>\n",
       "    <tr>\n",
       "      <th>3</th>\n",
       "      <td>JALISCO</td>\n",
       "      <td>816</td>\n",
       "    </tr>\n",
       "    <tr>\n",
       "      <th>4</th>\n",
       "      <td>QUINTANA ROO</td>\n",
       "      <td>724</td>\n",
       "    </tr>\n",
       "  </tbody>\n",
       "</table>\n",
       "</div>"
      ],
      "text/plain": [
       "             Estado  Categoría\n",
       "0            MÉXICO       1551\n",
       "1  DISTRITO FEDERAL        901\n",
       "2        GUANAJUATO        865\n",
       "3           JALISCO        816\n",
       "4      QUINTANA ROO        724"
      ]
     },
     "execution_count": 110,
     "metadata": {},
     "output_type": "execute_result"
    }
   ],
   "source": [
    "top5_category = pd.DataFrame([category_state])\n",
    "top5_category.columns = top5_category.columns.droplevel(-1)\n",
    "#Data Frame con el Top 5 de estados con mayores registros de medicamentos\n",
    "top5_category.transpose().reset_index()\n"
   ]
  },
  {
   "cell_type": "code",
   "execution_count": 115,
   "metadata": {},
   "outputs": [],
   "source": [
    "#Top5Chart = top5_category.plot.bar(x='Estado', y='Categoría', rot=0)"
   ]
  },
  {
   "cell_type": "markdown",
   "metadata": {},
   "source": [
    "## Gráfica 4\n",
    "### % del total de productos de la categoría medicamentos por Estado\n",
    "\n",
    "Esta es una métrica que saqué aparte y creo que si es posible podríamos fusionar la primera con la gráfica3 y podemos hacer una gráfica combinada de barras y línea para que salgan ambas métricas. pero l oque sea más fácil"
   ]
  },
  {
   "cell_type": "code",
   "execution_count": 112,
   "metadata": {},
   "outputs": [
    {
     "data": {
      "text/html": [
       "<style  type=\"text/css\" >\n",
       "</style>  \n",
       "<table id=\"T_28e882ca_193f_11e9_8e8a_9cb6d01aec0e\" > \n",
       "<thead>    <tr> \n",
       "        <th class=\"blank level0\" ></th> \n",
       "        <th class=\"col_heading level0 col0\" >Categoría</th> \n",
       "    </tr>    <tr> \n",
       "        <th class=\"index_name level0\" >Estado</th> \n",
       "        <th class=\"blank\" ></th> \n",
       "    </tr></thead> \n",
       "<tbody>    <tr> \n",
       "        <th id=\"T_28e882ca_193f_11e9_8e8a_9cb6d01aec0elevel0_row0\" class=\"row_heading level0 row0\" >MÉXICO</th> \n",
       "        <td id=\"T_28e882ca_193f_11e9_8e8a_9cb6d01aec0erow0_col0\" class=\"data row0 col0\" >14.48%</td> \n",
       "    </tr>    <tr> \n",
       "        <th id=\"T_28e882ca_193f_11e9_8e8a_9cb6d01aec0elevel0_row1\" class=\"row_heading level0 row1\" >DISTRITO FEDERAL</th> \n",
       "        <td id=\"T_28e882ca_193f_11e9_8e8a_9cb6d01aec0erow1_col0\" class=\"data row1 col0\" >8.41%</td> \n",
       "    </tr>    <tr> \n",
       "        <th id=\"T_28e882ca_193f_11e9_8e8a_9cb6d01aec0elevel0_row2\" class=\"row_heading level0 row2\" >GUANAJUATO</th> \n",
       "        <td id=\"T_28e882ca_193f_11e9_8e8a_9cb6d01aec0erow2_col0\" class=\"data row2 col0\" >8.08%</td> \n",
       "    </tr>    <tr> \n",
       "        <th id=\"T_28e882ca_193f_11e9_8e8a_9cb6d01aec0elevel0_row3\" class=\"row_heading level0 row3\" >JALISCO</th> \n",
       "        <td id=\"T_28e882ca_193f_11e9_8e8a_9cb6d01aec0erow3_col0\" class=\"data row3 col0\" >7.62%</td> \n",
       "    </tr>    <tr> \n",
       "        <th id=\"T_28e882ca_193f_11e9_8e8a_9cb6d01aec0elevel0_row4\" class=\"row_heading level0 row4\" >QUINTANA ROO</th> \n",
       "        <td id=\"T_28e882ca_193f_11e9_8e8a_9cb6d01aec0erow4_col0\" class=\"data row4 col0\" >6.76%</td> \n",
       "    </tr></tbody> \n",
       "</table> "
      ],
      "text/plain": [
       "<pandas.io.formats.style.Styler at 0x1ad6e3e66a0>"
      ]
     },
     "execution_count": 112,
     "metadata": {},
     "output_type": "execute_result"
    }
   ],
   "source": [
    "#Data Frame con el Top 5 de estados con el % de contribución del total de registros de medicamentos\n",
    "top5_categoryperc = top5_category / category_total\n",
    "top5_categoryperc.transpose().style.format(\"{:.2%}\")"
   ]
  },
  {
   "cell_type": "markdown",
   "metadata": {},
   "source": [
    "## Gráfica 5\n",
    "### Precio promedio de medicamentos 2015 por top 5 (max precio)\n",
    "\n",
    "Gráfica que ponga el top 5 de los estados con mayor precio en Mexico"
   ]
  },
  {
   "cell_type": "code",
   "execution_count": 139,
   "metadata": {},
   "outputs": [
    {
     "data": {
      "text/plain": [
       "355.45931752404033"
      ]
     },
     "execution_count": 139,
     "metadata": {},
     "output_type": "execute_result"
    }
   ],
   "source": [
    "avg_medprice = master_2015frame[master_2015frame['Categoría'] == 'MEDICAMENTOS'].groupby(\\\n",
    "                            ['Categoría'])['Precio'].mean().nlargest(32)\n",
    "#avg_medprice = avg_medprice['ID']\n",
    "avg_medprice = avg_medprice['MEDICAMENTOS']\n",
    "avg_medprice"
   ]
  },
  {
   "cell_type": "code",
   "execution_count": 149,
   "metadata": {
    "scrolled": true
   },
   "outputs": [
    {
     "data": {
      "text/plain": [
       "Estado               Categoría   \n",
       "DISTRITO FEDERAL     MEDICAMENTOS    428.526770\n",
       "SONORA               MEDICAMENTOS    398.167700\n",
       "BAJA CALIFORNIA      MEDICAMENTOS    378.842113\n",
       "BAJA CALIFORNIA SUR  MEDICAMENTOS    378.107500\n",
       "TABASCO              MEDICAMENTOS    372.412813\n",
       "Name: Precio, dtype: float64"
      ]
     },
     "execution_count": 149,
     "metadata": {},
     "output_type": "execute_result"
    }
   ],
   "source": [
    "avg_price = master_2015frame[master_2015frame['Categoría'] == 'MEDICAMENTOS'].groupby(\\\n",
    "                            ['Estado', 'Categoría'])['Precio'].mean().nlargest(5)\n",
    "avg_price"
   ]
  },
  {
   "cell_type": "code",
   "execution_count": 151,
   "metadata": {},
   "outputs": [
    {
     "data": {
      "text/html": [
       "<div>\n",
       "<style scoped>\n",
       "    .dataframe tbody tr th:only-of-type {\n",
       "        vertical-align: middle;\n",
       "    }\n",
       "\n",
       "    .dataframe tbody tr th {\n",
       "        vertical-align: top;\n",
       "    }\n",
       "\n",
       "    .dataframe thead th {\n",
       "        text-align: right;\n",
       "    }\n",
       "</style>\n",
       "<table border=\"1\" class=\"dataframe\">\n",
       "  <thead>\n",
       "    <tr style=\"text-align: right;\">\n",
       "      <th></th>\n",
       "      <th>Precio</th>\n",
       "    </tr>\n",
       "    <tr>\n",
       "      <th>Estado</th>\n",
       "      <th></th>\n",
       "    </tr>\n",
       "  </thead>\n",
       "  <tbody>\n",
       "    <tr>\n",
       "      <th>DISTRITO FEDERAL</th>\n",
       "      <td>428.526770</td>\n",
       "    </tr>\n",
       "    <tr>\n",
       "      <th>SONORA</th>\n",
       "      <td>398.167700</td>\n",
       "    </tr>\n",
       "    <tr>\n",
       "      <th>BAJA CALIFORNIA</th>\n",
       "      <td>378.842113</td>\n",
       "    </tr>\n",
       "    <tr>\n",
       "      <th>BAJA CALIFORNIA SUR</th>\n",
       "      <td>378.107500</td>\n",
       "    </tr>\n",
       "    <tr>\n",
       "      <th>TABASCO</th>\n",
       "      <td>372.412813</td>\n",
       "    </tr>\n",
       "  </tbody>\n",
       "</table>\n",
       "</div>"
      ],
      "text/plain": [
       "                         Precio\n",
       "Estado                         \n",
       "DISTRITO FEDERAL     428.526770\n",
       "SONORA               398.167700\n",
       "BAJA CALIFORNIA      378.842113\n",
       "BAJA CALIFORNIA SUR  378.107500\n",
       "TABASCO              372.412813"
      ]
     },
     "execution_count": 151,
     "metadata": {},
     "output_type": "execute_result"
    }
   ],
   "source": [
    "top5_price = pd.DataFrame([avg_price])\n",
    "top5_price.columns = top5_price.columns.droplevel(-1)\n",
    "#Data Frame con el Top 5 de estados con mayores registros de medicamentos\n",
    "top5_price.transpose()"
   ]
  },
  {
   "cell_type": "markdown",
   "metadata": {},
   "source": [
    "## Gráfica 6\n",
    "### % prima o descuento de precio promedio en medicamentos por el top 5 de Estados con mayor precio\n",
    "\n",
    "Esta es una métrica que saqué aparte y creo que si es posible podríamos fusionar la primera con la gráfica5 y podemos hacer una gráfica combinada de barras y línea para que salgan ambas métricas. pero l oque sea más fácil"
   ]
  },
  {
   "cell_type": "code",
   "execution_count": 153,
   "metadata": {},
   "outputs": [
    {
     "data": {
      "text/html": [
       "<style  type=\"text/css\" >\n",
       "</style>  \n",
       "<table id=\"T_f2fa66f4_1941_11e9_a461_9cb6d01aec0e\" > \n",
       "<thead>    <tr> \n",
       "        <th class=\"blank level0\" ></th> \n",
       "        <th class=\"col_heading level0 col0\" >Precio</th> \n",
       "    </tr>    <tr> \n",
       "        <th class=\"index_name level0\" >Estado</th> \n",
       "        <th class=\"blank\" ></th> \n",
       "    </tr></thead> \n",
       "<tbody>    <tr> \n",
       "        <th id=\"T_f2fa66f4_1941_11e9_a461_9cb6d01aec0elevel0_row0\" class=\"row_heading level0 row0\" >DISTRITO FEDERAL</th> \n",
       "        <td id=\"T_f2fa66f4_1941_11e9_a461_9cb6d01aec0erow0_col0\" class=\"data row0 col0\" >20.56%</td> \n",
       "    </tr>    <tr> \n",
       "        <th id=\"T_f2fa66f4_1941_11e9_a461_9cb6d01aec0elevel0_row1\" class=\"row_heading level0 row1\" >SONORA</th> \n",
       "        <td id=\"T_f2fa66f4_1941_11e9_a461_9cb6d01aec0erow1_col0\" class=\"data row1 col0\" >12.01%</td> \n",
       "    </tr>    <tr> \n",
       "        <th id=\"T_f2fa66f4_1941_11e9_a461_9cb6d01aec0elevel0_row2\" class=\"row_heading level0 row2\" >BAJA CALIFORNIA</th> \n",
       "        <td id=\"T_f2fa66f4_1941_11e9_a461_9cb6d01aec0erow2_col0\" class=\"data row2 col0\" >6.58%</td> \n",
       "    </tr>    <tr> \n",
       "        <th id=\"T_f2fa66f4_1941_11e9_a461_9cb6d01aec0elevel0_row3\" class=\"row_heading level0 row3\" >BAJA CALIFORNIA SUR</th> \n",
       "        <td id=\"T_f2fa66f4_1941_11e9_a461_9cb6d01aec0erow3_col0\" class=\"data row3 col0\" >6.37%</td> \n",
       "    </tr>    <tr> \n",
       "        <th id=\"T_f2fa66f4_1941_11e9_a461_9cb6d01aec0elevel0_row4\" class=\"row_heading level0 row4\" >TABASCO</th> \n",
       "        <td id=\"T_f2fa66f4_1941_11e9_a461_9cb6d01aec0erow4_col0\" class=\"data row4 col0\" >4.77%</td> \n",
       "    </tr></tbody> \n",
       "</table> "
      ],
      "text/plain": [
       "<pandas.io.formats.style.Styler at 0x1ad6e564cf8>"
      ]
     },
     "execution_count": 153,
     "metadata": {},
     "output_type": "execute_result"
    }
   ],
   "source": [
    "top5_priceperc = top5_price / avg_medprice - 1\n",
    "top5_priceperc.transpose().style.format(\"{:.2%}\")"
   ]
  },
  {
   "cell_type": "code",
   "execution_count": 155,
   "metadata": {},
   "outputs": [
    {
     "data": {
      "text/plain": [
       "Cadena                Categoría   \n",
       "WAL-MART              MEDICAMENTOS    1580\n",
       "BODEGA AURRERA        MEDICAMENTOS    1448\n",
       "FARMACIA GUADALAJARA  MEDICAMENTOS     740\n",
       "BENAVIDES             MEDICAMENTOS     706\n",
       "HIPERMERCADO SORIANA  MEDICAMENTOS     690\n",
       "Name: Categoría, dtype: int64"
      ]
     },
     "execution_count": 155,
     "metadata": {},
     "output_type": "execute_result"
    }
   ],
   "source": [
    "chain_category = master_2015frame[master_2015frame['Categoría'] == 'MEDICAMENTOS'].groupby(\\\n",
    "                            ['Cadena', 'Categoría'])['Categoría'].count().nlargest(5)\n",
    "chain_category"
   ]
  },
  {
   "cell_type": "markdown",
   "metadata": {},
   "source": [
    "## Gráfica 7\n",
    "### Count de categoría por Cadena top5\n",
    "\n",
    "Aquí tienes que hacer un chart con el número de categorías por Top 5 de cadenaS - Eje X = Cadena Eje Y = Categoría"
   ]
  },
  {
   "cell_type": "code",
   "execution_count": 157,
   "metadata": {},
   "outputs": [
    {
     "data": {
      "text/html": [
       "<div>\n",
       "<style scoped>\n",
       "    .dataframe tbody tr th:only-of-type {\n",
       "        vertical-align: middle;\n",
       "    }\n",
       "\n",
       "    .dataframe tbody tr th {\n",
       "        vertical-align: top;\n",
       "    }\n",
       "\n",
       "    .dataframe thead th {\n",
       "        text-align: right;\n",
       "    }\n",
       "</style>\n",
       "<table border=\"1\" class=\"dataframe\">\n",
       "  <thead>\n",
       "    <tr style=\"text-align: right;\">\n",
       "      <th></th>\n",
       "      <th>Cadena</th>\n",
       "      <th>Categoría</th>\n",
       "    </tr>\n",
       "  </thead>\n",
       "  <tbody>\n",
       "    <tr>\n",
       "      <th>0</th>\n",
       "      <td>WAL-MART</td>\n",
       "      <td>1580</td>\n",
       "    </tr>\n",
       "    <tr>\n",
       "      <th>1</th>\n",
       "      <td>BODEGA AURRERA</td>\n",
       "      <td>1448</td>\n",
       "    </tr>\n",
       "    <tr>\n",
       "      <th>2</th>\n",
       "      <td>FARMACIA GUADALAJARA</td>\n",
       "      <td>740</td>\n",
       "    </tr>\n",
       "    <tr>\n",
       "      <th>3</th>\n",
       "      <td>BENAVIDES</td>\n",
       "      <td>706</td>\n",
       "    </tr>\n",
       "    <tr>\n",
       "      <th>4</th>\n",
       "      <td>HIPERMERCADO SORIANA</td>\n",
       "      <td>690</td>\n",
       "    </tr>\n",
       "  </tbody>\n",
       "</table>\n",
       "</div>"
      ],
      "text/plain": [
       "                 Cadena  Categoría\n",
       "0              WAL-MART       1580\n",
       "1        BODEGA AURRERA       1448\n",
       "2  FARMACIA GUADALAJARA        740\n",
       "3             BENAVIDES        706\n",
       "4  HIPERMERCADO SORIANA        690"
      ]
     },
     "execution_count": 157,
     "metadata": {},
     "output_type": "execute_result"
    }
   ],
   "source": [
    "top5_chain = pd.DataFrame([chain_category])\n",
    "top5_chain.columns = top5_chain.columns.droplevel(-1)\n",
    "#Data Frame con el Top 5 de estados con mayores registros de medicamentos\n",
    "top5_chain.transpose().reset_index()"
   ]
  },
  {
   "cell_type": "markdown",
   "metadata": {},
   "source": [
    "## Gráfica 8\n",
    "### % del total de productos de la categoría medicamentos por Cadena Comercial\n",
    "\n",
    "Esta es una métrica que saqué aparte y creo que si es posible podríamos fusionar la primera con la gráfica7 y podemos hacer una gráfica combinada de barras y línea para que salgan ambas métricas. pero l oque sea más fácil"
   ]
  },
  {
   "cell_type": "code",
   "execution_count": 160,
   "metadata": {},
   "outputs": [
    {
     "data": {
      "text/html": [
       "<style  type=\"text/css\" >\n",
       "</style>  \n",
       "<table id=\"T_064ba614_1943_11e9_bc9e_9cb6d01aec0e\" > \n",
       "<thead>    <tr> \n",
       "        <th class=\"blank level0\" ></th> \n",
       "        <th class=\"col_heading level0 col0\" >Categoría</th> \n",
       "    </tr>    <tr> \n",
       "        <th class=\"index_name level0\" >Cadena</th> \n",
       "        <th class=\"blank\" ></th> \n",
       "    </tr></thead> \n",
       "<tbody>    <tr> \n",
       "        <th id=\"T_064ba614_1943_11e9_bc9e_9cb6d01aec0elevel0_row0\" class=\"row_heading level0 row0\" >WAL-MART</th> \n",
       "        <td id=\"T_064ba614_1943_11e9_bc9e_9cb6d01aec0erow0_col0\" class=\"data row0 col0\" >14.75%</td> \n",
       "    </tr>    <tr> \n",
       "        <th id=\"T_064ba614_1943_11e9_bc9e_9cb6d01aec0elevel0_row1\" class=\"row_heading level0 row1\" >BODEGA AURRERA</th> \n",
       "        <td id=\"T_064ba614_1943_11e9_bc9e_9cb6d01aec0erow1_col0\" class=\"data row1 col0\" >13.52%</td> \n",
       "    </tr>    <tr> \n",
       "        <th id=\"T_064ba614_1943_11e9_bc9e_9cb6d01aec0elevel0_row2\" class=\"row_heading level0 row2\" >FARMACIA GUADALAJARA</th> \n",
       "        <td id=\"T_064ba614_1943_11e9_bc9e_9cb6d01aec0erow2_col0\" class=\"data row2 col0\" >6.91%</td> \n",
       "    </tr>    <tr> \n",
       "        <th id=\"T_064ba614_1943_11e9_bc9e_9cb6d01aec0elevel0_row3\" class=\"row_heading level0 row3\" >BENAVIDES</th> \n",
       "        <td id=\"T_064ba614_1943_11e9_bc9e_9cb6d01aec0erow3_col0\" class=\"data row3 col0\" >6.59%</td> \n",
       "    </tr>    <tr> \n",
       "        <th id=\"T_064ba614_1943_11e9_bc9e_9cb6d01aec0elevel0_row4\" class=\"row_heading level0 row4\" >HIPERMERCADO SORIANA</th> \n",
       "        <td id=\"T_064ba614_1943_11e9_bc9e_9cb6d01aec0erow4_col0\" class=\"data row4 col0\" >6.44%</td> \n",
       "    </tr></tbody> \n",
       "</table> "
      ],
      "text/plain": [
       "<pandas.io.formats.style.Styler at 0x1ad6e444e48>"
      ]
     },
     "execution_count": 160,
     "metadata": {},
     "output_type": "execute_result"
    }
   ],
   "source": [
    "top5_chainperc = top5_chain / category_total\n",
    "top5_chainperc.transpose().style.format(\"{:.2%}\")"
   ]
  },
  {
   "cell_type": "code",
   "execution_count": 168,
   "metadata": {},
   "outputs": [
    {
     "data": {
      "text/plain": [
       "Cadena\n",
       "FARMACIA DEL HOSPITAL     540.297217\n",
       "SANBORN S HNOS.           532.554239\n",
       "FARMATODO                 414.097855\n",
       "SORIANA                   383.970820\n",
       "FARMACIA LA MAS BARATA    383.771878\n",
       "Name: Precio, dtype: float64"
      ]
     },
     "execution_count": 168,
     "metadata": {},
     "output_type": "execute_result"
    }
   ],
   "source": [
    "chain_price = master_2015frame[master_2015frame['Categoría'] == 'MEDICAMENTOS'].groupby(\\\n",
    "                            ['Cadena'])['Precio'].mean().nlargest(5)\n",
    "chain_price"
   ]
  },
  {
   "cell_type": "markdown",
   "metadata": {},
   "source": [
    "## Gráfica 9\n",
    "### Precio promedio de medicamentos 2015 por top 5 cadenas (max precio)\n",
    "\n",
    "Gráfica que ponga el top 5 de las cadenas con mayor precio en Mexico"
   ]
  },
  {
   "cell_type": "code",
   "execution_count": 169,
   "metadata": {},
   "outputs": [
    {
     "data": {
      "text/html": [
       "<div>\n",
       "<style scoped>\n",
       "    .dataframe tbody tr th:only-of-type {\n",
       "        vertical-align: middle;\n",
       "    }\n",
       "\n",
       "    .dataframe tbody tr th {\n",
       "        vertical-align: top;\n",
       "    }\n",
       "\n",
       "    .dataframe thead th {\n",
       "        text-align: right;\n",
       "    }\n",
       "</style>\n",
       "<table border=\"1\" class=\"dataframe\">\n",
       "  <thead>\n",
       "    <tr style=\"text-align: right;\">\n",
       "      <th></th>\n",
       "      <th>Precio</th>\n",
       "    </tr>\n",
       "    <tr>\n",
       "      <th>Cadena</th>\n",
       "      <th></th>\n",
       "    </tr>\n",
       "  </thead>\n",
       "  <tbody>\n",
       "    <tr>\n",
       "      <th>FARMACIA DEL HOSPITAL</th>\n",
       "      <td>540.297217</td>\n",
       "    </tr>\n",
       "    <tr>\n",
       "      <th>SANBORN S HNOS.</th>\n",
       "      <td>532.554239</td>\n",
       "    </tr>\n",
       "    <tr>\n",
       "      <th>FARMATODO</th>\n",
       "      <td>414.097855</td>\n",
       "    </tr>\n",
       "    <tr>\n",
       "      <th>SORIANA</th>\n",
       "      <td>383.970820</td>\n",
       "    </tr>\n",
       "    <tr>\n",
       "      <th>FARMACIA LA MAS BARATA</th>\n",
       "      <td>383.771878</td>\n",
       "    </tr>\n",
       "  </tbody>\n",
       "</table>\n",
       "</div>"
      ],
      "text/plain": [
       "                            Precio\n",
       "Cadena                            \n",
       "FARMACIA DEL HOSPITAL   540.297217\n",
       "SANBORN S HNOS.         532.554239\n",
       "FARMATODO               414.097855\n",
       "SORIANA                 383.970820\n",
       "FARMACIA LA MAS BARATA  383.771878"
      ]
     },
     "execution_count": 169,
     "metadata": {},
     "output_type": "execute_result"
    }
   ],
   "source": [
    "top5_chainprice = pd.DataFrame([chain_price])\n",
    "#top5_chainprice.columns = top5_chain.columns.droplevel(-1)\n",
    "#Data Frame con el Top 5 de estados con mayores registros de medicamentos\n",
    "top5_chainprice.transpose()"
   ]
  },
  {
   "cell_type": "markdown",
   "metadata": {},
   "source": [
    "## Gráfica 10\n",
    "### % prima o descuento de precio promedio en medicamentos por el top 5 de Cadenas con mayor precio\n",
    "\n",
    "Esta es una métrica que saqué aparte y creo que si es posible podríamos fusionar la primera con la gráfica9 y podemos hacer una gráfica combinada de barras y línea para que salgan ambas métricas. pero l oque sea más fácil"
   ]
  },
  {
   "cell_type": "code",
   "execution_count": 171,
   "metadata": {
    "scrolled": true
   },
   "outputs": [
    {
     "data": {
      "text/html": [
       "<style  type=\"text/css\" >\n",
       "</style>  \n",
       "<table id=\"T_14561838_1944_11e9_88a3_9cb6d01aec0e\" > \n",
       "<thead>    <tr> \n",
       "        <th class=\"blank level0\" ></th> \n",
       "        <th class=\"col_heading level0 col0\" >Precio</th> \n",
       "    </tr>    <tr> \n",
       "        <th class=\"index_name level0\" >Cadena</th> \n",
       "        <th class=\"blank\" ></th> \n",
       "    </tr></thead> \n",
       "<tbody>    <tr> \n",
       "        <th id=\"T_14561838_1944_11e9_88a3_9cb6d01aec0elevel0_row0\" class=\"row_heading level0 row0\" >FARMACIA DEL HOSPITAL</th> \n",
       "        <td id=\"T_14561838_1944_11e9_88a3_9cb6d01aec0erow0_col0\" class=\"data row0 col0\" >52.00%</td> \n",
       "    </tr>    <tr> \n",
       "        <th id=\"T_14561838_1944_11e9_88a3_9cb6d01aec0elevel0_row1\" class=\"row_heading level0 row1\" >SANBORN S HNOS.</th> \n",
       "        <td id=\"T_14561838_1944_11e9_88a3_9cb6d01aec0erow1_col0\" class=\"data row1 col0\" >49.82%</td> \n",
       "    </tr>    <tr> \n",
       "        <th id=\"T_14561838_1944_11e9_88a3_9cb6d01aec0elevel0_row2\" class=\"row_heading level0 row2\" >FARMATODO</th> \n",
       "        <td id=\"T_14561838_1944_11e9_88a3_9cb6d01aec0erow2_col0\" class=\"data row2 col0\" >16.50%</td> \n",
       "    </tr>    <tr> \n",
       "        <th id=\"T_14561838_1944_11e9_88a3_9cb6d01aec0elevel0_row3\" class=\"row_heading level0 row3\" >SORIANA</th> \n",
       "        <td id=\"T_14561838_1944_11e9_88a3_9cb6d01aec0erow3_col0\" class=\"data row3 col0\" >8.02%</td> \n",
       "    </tr>    <tr> \n",
       "        <th id=\"T_14561838_1944_11e9_88a3_9cb6d01aec0elevel0_row4\" class=\"row_heading level0 row4\" >FARMACIA LA MAS BARATA</th> \n",
       "        <td id=\"T_14561838_1944_11e9_88a3_9cb6d01aec0erow4_col0\" class=\"data row4 col0\" >7.97%</td> \n",
       "    </tr></tbody> \n",
       "</table> "
      ],
      "text/plain": [
       "<pandas.io.formats.style.Styler at 0x1ad6e4cba58>"
      ]
     },
     "execution_count": 171,
     "metadata": {},
     "output_type": "execute_result"
    }
   ],
   "source": [
    "top5_chainpriceperc = top5_chainprice / avg_medprice - 1\n",
    "top5_chainpriceperc.transpose().style.format(\"{:.2%}\")"
   ]
  },
  {
   "cell_type": "markdown",
   "metadata": {},
   "source": [
    "# A huevo, nos la pela esto"
   ]
  },
  {
   "cell_type": "code",
   "execution_count": null,
   "metadata": {},
   "outputs": [],
   "source": []
  }
 ],
 "metadata": {
  "kernelspec": {
   "display_name": "Python 3",
   "language": "python",
   "name": "python3"
  },
  "language_info": {
   "codemirror_mode": {
    "name": "ipython",
    "version": 3
   },
   "file_extension": ".py",
   "mimetype": "text/x-python",
   "name": "python",
   "nbconvert_exporter": "python",
   "pygments_lexer": "ipython3",
   "version": "3.6.5"
  }
 },
 "nbformat": 4,
 "nbformat_minor": 2
}
