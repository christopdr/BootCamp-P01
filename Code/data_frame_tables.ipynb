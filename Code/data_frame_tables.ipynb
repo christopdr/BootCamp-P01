{
 "cells": [
  {
   "cell_type": "code",
   "execution_count": 1,
   "metadata": {},
   "outputs": [],
   "source": [
    "import requests\n",
    "import json\n",
    "import pandas as pd\n",
    "from datetime import datetime\n",
    "import numpy as np\n",
    "import matplotlib.pyplot as plt\n",
    "import squarify"
   ]
  },
  {
   "cell_type": "markdown",
   "metadata": {},
   "source": [
    "## 1. Load CSV File "
   ]
  },
  {
   "cell_type": "code",
   "execution_count": 2,
   "metadata": {},
   "outputs": [
    {
     "data": {
      "text/html": [
       "<div>\n",
       "<style scoped>\n",
       "    .dataframe tbody tr th:only-of-type {\n",
       "        vertical-align: middle;\n",
       "    }\n",
       "\n",
       "    .dataframe tbody tr th {\n",
       "        vertical-align: top;\n",
       "    }\n",
       "\n",
       "    .dataframe thead th {\n",
       "        text-align: right;\n",
       "    }\n",
       "</style>\n",
       "<table border=\"1\" class=\"dataframe\">\n",
       "  <thead>\n",
       "    <tr style=\"text-align: right;\">\n",
       "      <th></th>\n",
       "      <th>Unnamed: 0</th>\n",
       "      <th>_id</th>\n",
       "      <th>cadenaComercial</th>\n",
       "      <th>catalogo</th>\n",
       "      <th>categoria</th>\n",
       "      <th>direccion</th>\n",
       "      <th>estado</th>\n",
       "      <th>fechaRegistro</th>\n",
       "      <th>giro</th>\n",
       "      <th>latitud</th>\n",
       "      <th>longitud</th>\n",
       "      <th>marca</th>\n",
       "      <th>municipio</th>\n",
       "      <th>nombreComercial</th>\n",
       "      <th>precio</th>\n",
       "      <th>presentacion</th>\n",
       "      <th>producto</th>\n",
       "      <th>razonSocial</th>\n",
       "      <th>rfc</th>\n",
       "    </tr>\n",
       "  </thead>\n",
       "  <tbody>\n",
       "    <tr>\n",
       "      <th>0</th>\n",
       "      <td>0</td>\n",
       "      <td>571e4c002f232201006c6cac</td>\n",
       "      <td>HIPERMERCADO SORIANA</td>\n",
       "      <td>BASICOS</td>\n",
       "      <td>TORTILLAS Y DERIVADOS DEL MAIZ</td>\n",
       "      <td>BLVD. ADOLFO LOPEZ MATEOS 1100, ESQ. CALAFIA, ...</td>\n",
       "      <td>BAJA CALIFORNIA</td>\n",
       "      <td>2015-02-10</td>\n",
       "      <td>TIENDA DE AUTOSERVICIO</td>\n",
       "      <td>32.641719</td>\n",
       "      <td>-115.469582</td>\n",
       "      <td>S/M</td>\n",
       "      <td>MEXICALI</td>\n",
       "      <td>SORIANA HIPER SUCURSAL CALAFIA</td>\n",
       "      <td>11.9</td>\n",
       "      <td>1 KG. GRANEL</td>\n",
       "      <td>TORTILLA DE MAIZ</td>\n",
       "      <td>NaN</td>\n",
       "      <td>NaN</td>\n",
       "    </tr>\n",
       "  </tbody>\n",
       "</table>\n",
       "</div>"
      ],
      "text/plain": [
       "   Unnamed: 0                       _id       cadenaComercial catalogo  \\\n",
       "0           0  571e4c002f232201006c6cac  HIPERMERCADO SORIANA  BASICOS   \n",
       "\n",
       "                        categoria  \\\n",
       "0  TORTILLAS Y DERIVADOS DEL MAIZ   \n",
       "\n",
       "                                           direccion           estado  \\\n",
       "0  BLVD. ADOLFO LOPEZ MATEOS 1100, ESQ. CALAFIA, ...  BAJA CALIFORNIA   \n",
       "\n",
       "  fechaRegistro                    giro    latitud    longitud marca  \\\n",
       "0    2015-02-10  TIENDA DE AUTOSERVICIO  32.641719 -115.469582   S/M   \n",
       "\n",
       "  municipio                 nombreComercial  precio  presentacion  \\\n",
       "0  MEXICALI  SORIANA HIPER SUCURSAL CALAFIA    11.9  1 KG. GRANEL   \n",
       "\n",
       "           producto  razonSocial  rfc  \n",
       "0  TORTILLA DE MAIZ          NaN  NaN  "
      ]
     },
     "execution_count": 2,
     "metadata": {},
     "output_type": "execute_result"
    }
   ],
   "source": [
    "raw_data = pd.read_csv('Profeco_Catalog.csv')\n",
    "raw_data.head(1)"
   ]
  },
  {
   "cell_type": "markdown",
   "metadata": {},
   "source": [
    "## 2. Rename columns from Data Frame Loaded\n"
   ]
  },
  {
   "cell_type": "code",
   "execution_count": 3,
   "metadata": {},
   "outputs": [
    {
     "data": {
      "text/html": [
       "<div>\n",
       "<style scoped>\n",
       "    .dataframe tbody tr th:only-of-type {\n",
       "        vertical-align: middle;\n",
       "    }\n",
       "\n",
       "    .dataframe tbody tr th {\n",
       "        vertical-align: top;\n",
       "    }\n",
       "\n",
       "    .dataframe thead th {\n",
       "        text-align: right;\n",
       "    }\n",
       "</style>\n",
       "<table border=\"1\" class=\"dataframe\">\n",
       "  <thead>\n",
       "    <tr style=\"text-align: right;\">\n",
       "      <th></th>\n",
       "      <th>ID</th>\n",
       "      <th>Cadena</th>\n",
       "      <th>Categoría</th>\n",
       "      <th>Estado</th>\n",
       "      <th>Fecha</th>\n",
       "      <th>Latitud</th>\n",
       "      <th>Longitud</th>\n",
       "      <th>Marca</th>\n",
       "      <th>Municipio</th>\n",
       "      <th>Precio</th>\n",
       "      <th>Presentación</th>\n",
       "      <th>Producto</th>\n",
       "    </tr>\n",
       "  </thead>\n",
       "  <tbody>\n",
       "    <tr>\n",
       "      <th>0</th>\n",
       "      <td>571e4c002f232201006c6cac</td>\n",
       "      <td>HIPERMERCADO SORIANA</td>\n",
       "      <td>TORTILLAS Y DERIVADOS DEL MAIZ</td>\n",
       "      <td>BAJA CALIFORNIA</td>\n",
       "      <td>2015-02-10</td>\n",
       "      <td>32.641719</td>\n",
       "      <td>-115.469582</td>\n",
       "      <td>S/M</td>\n",
       "      <td>MEXICALI</td>\n",
       "      <td>11.9</td>\n",
       "      <td>1 KG. GRANEL</td>\n",
       "      <td>TORTILLA DE MAIZ</td>\n",
       "    </tr>\n",
       "  </tbody>\n",
       "</table>\n",
       "</div>"
      ],
      "text/plain": [
       "                         ID                Cadena  \\\n",
       "0  571e4c002f232201006c6cac  HIPERMERCADO SORIANA   \n",
       "\n",
       "                        Categoría           Estado       Fecha    Latitud  \\\n",
       "0  TORTILLAS Y DERIVADOS DEL MAIZ  BAJA CALIFORNIA  2015-02-10  32.641719   \n",
       "\n",
       "     Longitud Marca Municipio  Precio  Presentación          Producto  \n",
       "0 -115.469582   S/M  MEXICALI    11.9  1 KG. GRANEL  TORTILLA DE MAIZ  "
      ]
     },
     "execution_count": 3,
     "metadata": {},
     "output_type": "execute_result"
    }
   ],
   "source": [
    "master_frame = raw_data.drop(columns = ['giro','razonSocial','rfc','catalogo','Unnamed: 0','direccion','nombreComercial']).reset_index(drop=True).rename(index=str, columns={\"_id\": \"ID\", \"cadenaComercial\": \"Cadena\", \"categoria\": \"Categoría\", \"estado\": \"Estado\", \"fechaRegistro\": \"Fecha\", \"latitud\": \"Latitud\", \"longitud\": \"Longitud\", \"marca\": \"Marca\", \"municipio\": \"Municipio\", \"precio\": \"Precio\", \"presentacion\": \"Presentación\", \"producto\": \"Producto\"})\n",
    "master_frame.head(1)"
   ]
  },
  {
   "cell_type": "markdown",
   "metadata": {},
   "source": [
    "## Analyze registered products by year\n",
    "Take this first step to see the year with more data. The information is not very constant."
   ]
  },
  {
   "cell_type": "code",
   "execution_count": 4,
   "metadata": {},
   "outputs": [
    {
     "data": {
      "text/html": [
       "<div>\n",
       "<style scoped>\n",
       "    .dataframe tbody tr th:only-of-type {\n",
       "        vertical-align: middle;\n",
       "    }\n",
       "\n",
       "    .dataframe tbody tr th {\n",
       "        vertical-align: top;\n",
       "    }\n",
       "\n",
       "    .dataframe thead th {\n",
       "        text-align: right;\n",
       "    }\n",
       "</style>\n",
       "<table border=\"1\" class=\"dataframe\">\n",
       "  <thead>\n",
       "    <tr style=\"text-align: right;\">\n",
       "      <th></th>\n",
       "      <th>Año</th>\n",
       "      <th>Total Registrado</th>\n",
       "    </tr>\n",
       "  </thead>\n",
       "  <tbody>\n",
       "    <tr>\n",
       "      <th>0</th>\n",
       "      <td>2012</td>\n",
       "      <td>9063</td>\n",
       "    </tr>\n",
       "    <tr>\n",
       "      <th>1</th>\n",
       "      <td>2013</td>\n",
       "      <td>40539</td>\n",
       "    </tr>\n",
       "    <tr>\n",
       "      <th>2</th>\n",
       "      <td>2015</td>\n",
       "      <td>131192</td>\n",
       "    </tr>\n",
       "    <tr>\n",
       "      <th>3</th>\n",
       "      <td>2016</td>\n",
       "      <td>38788</td>\n",
       "    </tr>\n",
       "  </tbody>\n",
       "</table>\n",
       "</div>"
      ],
      "text/plain": [
       "    Año  Total Registrado\n",
       "0  2012              9063\n",
       "1  2013             40539\n",
       "2  2015            131192\n",
       "3  2016             38788"
      ]
     },
     "execution_count": 4,
     "metadata": {},
     "output_type": "execute_result"
    }
   ],
   "source": [
    "year_registry = pd.DataFrame(master_frame.groupby('Fecha')['Fecha'].count())\n",
    "year_registry.columns=['T']\n",
    "year_registry.reset_index(inplace=True)\n",
    "year_registry['Fecha'] = year_registry['Fecha'].apply(lambda x: str(x).split('-')[0])\n",
    "year_registry.columns=['Año', 'Total Registrado']\n",
    "year_registry"
   ]
  },
  {
   "cell_type": "markdown",
   "metadata": {},
   "source": [
    "# Line graph (1)\n",
    "## Graph to see the apparent growth of products registered by year."
   ]
  },
  {
   "cell_type": "code",
   "execution_count": 5,
   "metadata": {},
   "outputs": [
    {
     "data": {
      "image/png": "[encoded data removed]",
      "text/plain": [
       "<Figure size 432x288 with 1 Axes>"
      ]
     },
     "metadata": {},
     "output_type": "display_data"
    }
   ],
   "source": [
    "#plot\n",
    "fig, ax = plt.subplots()\n",
    "year_registry.plot(kind='line', x ='Año', y='Total Registrado', ax = ax, legend=False)\n",
    "ax.set_title('Registro de Productos/ Año: Profeco',fontsize = 18, color= 'DarkBlue')\n",
    "ax.set_ylabel('Total Registrado')\n",
    "ax.grid()\n",
    "plt.show()\n"
   ]
  },
  {
   "cell_type": "markdown",
   "metadata": {},
   "source": [
    "## Get values from the categories with more data registered"
   ]
  },
  {
   "cell_type": "code",
   "execution_count": 6,
   "metadata": {},
   "outputs": [
    {
     "data": {
      "text/plain": [
       "Categoría\n",
       "MEDICAMENTOS                         41061\n",
       "ARTS. PARA EL CUIDADO PERSONAL       16291\n",
       "APARATOS ELECTRICOS                  13713\n",
       "DETERGENTES Y PRODUCTOS SIMILARES    12235\n",
       "DERIVADOS DE LECHE                   11074\n",
       "CARNES FRIAS SECAS Y EMBUTIDOS       10901\n",
       "APARATOS ELECTRONICOS                10070\n",
       "CONDIMENTOS                           9655\n",
       "REFRESCOS ENVASADOS                   9650\n",
       "FRUTAS Y LEGUMBRES PROCESADAS         9319\n",
       "Name: Categoría, dtype: int64"
      ]
     },
     "execution_count": 6,
     "metadata": {},
     "output_type": "execute_result"
    }
   ],
   "source": [
    "master_2015frame = master_frame[(master_frame['Fecha'] == '2015-02-10')]\n",
    "#master_2015frame\n",
    "df_category = master_2015frame.groupby('Categoría')['Categoría'].count().nlargest(10)\n",
    "df_category\n",
    "category = master_frame.groupby('Categoría')['Categoría'].count().nlargest(10)\n",
    "category"
   ]
  },
  {
   "cell_type": "markdown",
   "metadata": {},
   "source": [
    "# Pie chart (2)\n",
    "## Graph showing more relevant categories quantity"
   ]
  },
  {
   "cell_type": "code",
   "execution_count": 7,
   "metadata": {},
   "outputs": [
    {
     "data": {
      "text/plain": [
       "Text(0.5,1,'Registros por Categoria')"
      ]
     },
     "execution_count": 7,
     "metadata": {},
     "output_type": "execute_result"
    },
    {
     "data": {
      "image/png": "[encoded data removed]",
      "text/plain": [
       "<Figure size 432x288 with 1 Axes>"
      ]
     },
     "metadata": {},
     "output_type": "display_data"
    }
   ],
   "source": [
    "Category_Plot_pie = df_category.plot.pie()\n",
    "Category_Plot_pie.axis('equal')\n",
    "Category_Plot_pie.set_ylabel(\"\")\n",
    "Category_Plot_pie.set_xlabel(\"\")\n",
    "Category_Plot_pie.set_title('Registros por Categoria',fontsize = 18, color= 'DarkBlue')"
   ]
  },
  {
   "cell_type": "code",
   "execution_count": null,
   "metadata": {},
   "outputs": [],
   "source": []
  },
  {
   "cell_type": "markdown",
   "metadata": {},
   "source": [
    "# Category count by state (Top 5)"
   ]
  },
  {
   "cell_type": "code",
   "execution_count": 8,
   "metadata": {},
   "outputs": [
    {
     "data": {
      "text/html": [
       "<div>\n",
       "<style scoped>\n",
       "    .dataframe tbody tr th:only-of-type {\n",
       "        vertical-align: middle;\n",
       "    }\n",
       "\n",
       "    .dataframe tbody tr th {\n",
       "        vertical-align: top;\n",
       "    }\n",
       "\n",
       "    .dataframe thead th {\n",
       "        text-align: right;\n",
       "    }\n",
       "</style>\n",
       "<table border=\"1\" class=\"dataframe\">\n",
       "  <thead>\n",
       "    <tr style=\"text-align: right;\">\n",
       "      <th></th>\n",
       "      <th>Estado</th>\n",
       "      <th>Categoría</th>\n",
       "    </tr>\n",
       "  </thead>\n",
       "  <tbody>\n",
       "    <tr>\n",
       "      <th>0</th>\n",
       "      <td>DISTRITO FEDERAL</td>\n",
       "      <td>4558</td>\n",
       "    </tr>\n",
       "    <tr>\n",
       "      <th>1</th>\n",
       "      <td>MÉXICO</td>\n",
       "      <td>4223</td>\n",
       "    </tr>\n",
       "    <tr>\n",
       "      <th>2</th>\n",
       "      <td>GUANAJUATO</td>\n",
       "      <td>1992</td>\n",
       "    </tr>\n",
       "    <tr>\n",
       "      <th>3</th>\n",
       "      <td>NUEVO LEÓN</td>\n",
       "      <td>1558</td>\n",
       "    </tr>\n",
       "    <tr>\n",
       "      <th>4</th>\n",
       "      <td>JALISCO</td>\n",
       "      <td>1328</td>\n",
       "    </tr>\n",
       "  </tbody>\n",
       "</table>\n",
       "</div>"
      ],
      "text/plain": [
       "             Estado  Categoría\n",
       "0  DISTRITO FEDERAL       4558\n",
       "1            MÉXICO       4223\n",
       "2        GUANAJUATO       1992\n",
       "3        NUEVO LEÓN       1558\n",
       "4           JALISCO       1328"
      ]
     },
     "execution_count": 8,
     "metadata": {},
     "output_type": "execute_result"
    }
   ],
   "source": [
    "category_state = master_2015frame[master_2015frame['Categoría'] == 'MEDICAMENTOS'].groupby(\\\n",
    "                            ['Estado', 'Categoría'])['Categoría'].count().nlargest(5)\n",
    "#category_state\n",
    "category_total = master_2015frame[master_2015frame['Categoría'] == 'MEDICAMENTOS'].count()\n",
    "category_total = category_total['ID']\n",
    "#category_total\n",
    "top5_category = pd.DataFrame([category_state])\n",
    "top5_category.columns = top5_category.columns.droplevel(-1)\n",
    "#Data Frame con el Top 5 de estados con mayores registros de medicamentos\n",
    "top5_category.transpose().reset_index()"
   ]
  },
  {
   "cell_type": "markdown",
   "metadata": {},
   "source": [
    "# Bar graph (3)\n",
    "## Display of the top 5 Categoties by state"
   ]
  },
  {
   "cell_type": "code",
   "execution_count": 9,
   "metadata": {},
   "outputs": [
    {
     "data": {
      "text/plain": [
       "Text(0.5,1,'Categorias por Estado')"
      ]
     },
     "execution_count": 9,
     "metadata": {},
     "output_type": "execute_result"
    },
    {
     "data": {
      "image/png": "[encoded data removed]",
      "text/plain": [
       "<Figure size 432x288 with 1 Axes>"
      ]
     },
     "metadata": {},
     "output_type": "display_data"
    }
   ],
   "source": [
    "Top5Chart = top5_category.plot.bar()\n",
    "Top5Chart.set_ylabel('Categorias')\n",
    "Top5Chart.set_title('Categorias por Estado', fontsize = 18, color= 'DarkBlue')"
   ]
  },
  {
   "cell_type": "markdown",
   "metadata": {},
   "source": [
    "# Pie Chart (4)\n",
    "## Total percentage of medicine products grouped by state (Top 5)"
   ]
  },
  {
   "cell_type": "code",
   "execution_count": 10,
   "metadata": {},
   "outputs": [
    {
     "data": {
      "image/png": "[encoded data removed]",
      "text/plain": [
       "<Figure size 432x288 with 1 Axes>"
      ]
     },
     "metadata": {},
     "output_type": "display_data"
    }
   ],
   "source": [
    "category_transpose = top5_category.transpose().reset_index()\n",
    "category_transpose['Porcentaje'] = (category_transpose['Categoría'] / category_total)*100\n",
    "#other = category_total - top5_category\n",
    "#top5_categoryperc.reset_index(inplace=False)\n",
    "#category_transpose= category_transpose.style.format(\"{:.2%}\")\n",
    "#category_transpose.plot(kind='bar',y='Porcentaje', x='Estado')\n",
    "#plt.show()\n",
    "colors = [\"#E13F29\", \"#D69A80\", \"#D63B59\", \"#AE5552\", \"#CB5C3B\", \"#EB8076\", \"#96624E\"]\n",
    "\n",
    "# Create a pie chart\n",
    "plt.pie(\n",
    "    # using data total)arrests\n",
    "    category_transpose['Porcentaje'],\n",
    "    # with the labels being officer names\n",
    "    labels=category_transpose['Estado'],\n",
    "    # with no shadows\n",
    "    shadow=True,\n",
    "    # with colors\n",
    "\n",
    "    # with one slide exploded out\n",
    "    explode=(0.15, 0.15, 0, 0, 0),\n",
    "    # with the start angle at 90%\n",
    "    startangle=90,\n",
    "    # with the percent listed as a fraction\n",
    "    autopct='%1.1f%%',\n",
    "    )\n",
    "\n",
    "# View the plot drop above\n",
    "plt.axis('equal')\n",
    "\n",
    "# View the plot\n",
    "plt.tight_layout()\n",
    "plt.show()"
   ]
  },
  {
   "cell_type": "markdown",
   "metadata": {},
   "source": [
    "## Gráfica 5\n",
    "### Precio promedio de medicamentos 2015 por top 5 (max precio)\n",
    "Gráfica que ponga el top 5 de los estados con mayor precio en Mexico"
   ]
  },
  {
   "cell_type": "code",
   "execution_count": 11,
   "metadata": {},
   "outputs": [
    {
     "name": "stdout",
     "output_type": "stream",
     "text": [
      "Precio promedio de medicamento: 379.6187374517428\n"
     ]
    }
   ],
   "source": [
    "avg_medprice = master_2015frame[master_2015frame['Categoría'] == 'MEDICAMENTOS'].groupby(\\\n",
    "                            ['Categoría'])['Precio'].mean().nlargest(32)\n",
    "#avg_medprice = avg_medprice['ID']\n",
    "avg_medprice = avg_medprice['MEDICAMENTOS']\n",
    "print('Precio promedio de medicamento: ' + str(avg_medprice))"
   ]
  },
  {
   "cell_type": "code",
   "execution_count": 12,
   "metadata": {},
   "outputs": [
    {
     "data": {
      "text/html": [
       "<div>\n",
       "<style scoped>\n",
       "    .dataframe tbody tr th:only-of-type {\n",
       "        vertical-align: middle;\n",
       "    }\n",
       "\n",
       "    .dataframe tbody tr th {\n",
       "        vertical-align: top;\n",
       "    }\n",
       "\n",
       "    .dataframe thead th {\n",
       "        text-align: right;\n",
       "    }\n",
       "</style>\n",
       "<table border=\"1\" class=\"dataframe\">\n",
       "  <thead>\n",
       "    <tr style=\"text-align: right;\">\n",
       "      <th></th>\n",
       "      <th>Estado</th>\n",
       "      <th>Categoría</th>\n",
       "      <th>Precio</th>\n",
       "    </tr>\n",
       "  </thead>\n",
       "  <tbody>\n",
       "    <tr>\n",
       "      <th>0</th>\n",
       "      <td>SINALOA</td>\n",
       "      <td>MEDICAMENTOS</td>\n",
       "      <td>430.158429</td>\n",
       "    </tr>\n",
       "    <tr>\n",
       "      <th>1</th>\n",
       "      <td>M��XICO</td>\n",
       "      <td>MEDICAMENTOS</td>\n",
       "      <td>421.190000</td>\n",
       "    </tr>\n",
       "    <tr>\n",
       "      <th>2</th>\n",
       "      <td>SONORA</td>\n",
       "      <td>MEDICAMENTOS</td>\n",
       "      <td>416.815631</td>\n",
       "    </tr>\n",
       "    <tr>\n",
       "      <th>3</th>\n",
       "      <td>MICHOACÁN DE OCAMPO</td>\n",
       "      <td>MEDICAMENTOS</td>\n",
       "      <td>415.290411</td>\n",
       "    </tr>\n",
       "    <tr>\n",
       "      <th>4</th>\n",
       "      <td>DISTRITO FEDERAL</td>\n",
       "      <td>MEDICAMENTOS</td>\n",
       "      <td>405.847330</td>\n",
       "    </tr>\n",
       "  </tbody>\n",
       "</table>\n",
       "</div>"
      ],
      "text/plain": [
       "                Estado     Categoría      Precio\n",
       "0              SINALOA  MEDICAMENTOS  430.158429\n",
       "1              M��XICO  MEDICAMENTOS  421.190000\n",
       "2               SONORA  MEDICAMENTOS  416.815631\n",
       "3  MICHOACÁN DE OCAMPO  MEDICAMENTOS  415.290411\n",
       "4     DISTRITO FEDERAL  MEDICAMENTOS  405.847330"
      ]
     },
     "execution_count": 12,
     "metadata": {},
     "output_type": "execute_result"
    }
   ],
   "source": [
    "avg_price = master_2015frame[master_2015frame['Categoría'] == 'MEDICAMENTOS'].groupby(\\\n",
    "                            ['Estado', 'Categoría'])['Precio'].mean().nlargest(5)\n",
    "avg_price_df = pd.DataFrame(avg_price)\n",
    "avg_price_df = avg_price_df.reset_index()\n",
    "avg_price_df"
   ]
  },
  {
   "cell_type": "code",
   "execution_count": 13,
   "metadata": {},
   "outputs": [
    {
     "data": {
      "image/png": "[encoded data removed]",
      "text/plain": [
       "<Figure size 432x288 with 1 Axes>"
      ]
     },
     "metadata": {},
     "output_type": "display_data"
    }
   ],
   "source": [
    "avg_price_df.plot(kind='bar', y = 'Precio', x ='Estado')\n",
    "plt.show()"
   ]
  },
  {
   "cell_type": "markdown",
   "metadata": {},
   "source": [
    "# Square graph (6)\n",
    "## Average price of medicines with highest price in top 5. Selected by state\n"
   ]
  },
  {
   "cell_type": "code",
   "execution_count": 14,
   "metadata": {},
   "outputs": [
    {
     "data": {
      "text/html": [
       "<div>\n",
       "<style scoped>\n",
       "    .dataframe tbody tr th:only-of-type {\n",
       "        vertical-align: middle;\n",
       "    }\n",
       "\n",
       "    .dataframe tbody tr th {\n",
       "        vertical-align: top;\n",
       "    }\n",
       "\n",
       "    .dataframe thead th {\n",
       "        text-align: right;\n",
       "    }\n",
       "</style>\n",
       "<table border=\"1\" class=\"dataframe\">\n",
       "  <thead>\n",
       "    <tr style=\"text-align: right;\">\n",
       "      <th></th>\n",
       "      <th>Precio</th>\n",
       "    </tr>\n",
       "    <tr>\n",
       "      <th>Estado</th>\n",
       "      <th></th>\n",
       "    </tr>\n",
       "  </thead>\n",
       "  <tbody>\n",
       "    <tr>\n",
       "      <th>SINALOA</th>\n",
       "      <td>430.158429</td>\n",
       "    </tr>\n",
       "    <tr>\n",
       "      <th>M��XICO</th>\n",
       "      <td>421.190000</td>\n",
       "    </tr>\n",
       "    <tr>\n",
       "      <th>SONORA</th>\n",
       "      <td>416.815631</td>\n",
       "    </tr>\n",
       "    <tr>\n",
       "      <th>MICHOACÁN DE OCAMPO</th>\n",
       "      <td>415.290411</td>\n",
       "    </tr>\n",
       "    <tr>\n",
       "      <th>DISTRITO FEDERAL</th>\n",
       "      <td>405.847330</td>\n",
       "    </tr>\n",
       "  </tbody>\n",
       "</table>\n",
       "</div>"
      ],
      "text/plain": [
       "                         Precio\n",
       "Estado                         \n",
       "SINALOA              430.158429\n",
       "M��XICO              421.190000\n",
       "SONORA               416.815631\n",
       "MICHOACÁN DE OCAMPO  415.290411\n",
       "DISTRITO FEDERAL     405.847330"
      ]
     },
     "execution_count": 14,
     "metadata": {},
     "output_type": "execute_result"
    }
   ],
   "source": [
    "top5_price = pd.DataFrame([avg_price])\n",
    "top5_price.columns = top5_price.columns.droplevel(-1)\n",
    "#Data Frame con el Top 5 de estados con mayores registros de medicamentos\n",
    "top5_price.transpose()"
   ]
  },
  {
   "cell_type": "code",
   "execution_count": 15,
   "metadata": {},
   "outputs": [
    {
     "data": {
      "image/png": "[encoded data removed]",
      "text/plain": [
       "<Figure size 432x288 with 1 Axes>"
      ]
     },
     "metadata": {},
     "output_type": "display_data"
    }
   ],
   "source": [
    "chain_category = master_2015frame[master_2015frame['Categoría'] == 'MEDICAMENTOS'].groupby(\\\n",
    "                            ['Cadena', 'Categoría'])['Categoría'].count().nlargest(5)\n",
    "#chain_category\n",
    "chain_category_df = pd.DataFrame(chain_category)\n",
    "#chain_category_df.reset_index(inplace=True)\n",
    "chain_category_df.columns = ['Medicamentos Registrados']\n",
    "chain_category_df.reset_index(inplace=True)\n",
    "chain_category_df.sort_values(by=['Medicamentos Registrados'],ascending =True)\n",
    "#label_val = chain_category_df['Cadena'] + '\\n' + chain_category_df['Medicamentos Registrados']\n",
    "temp_cadena = list(chain_category_df['Cadena'])\n",
    "temp_medicine = list(chain_category_df['Medicamentos Registrados'])\n",
    "labels_val =[]\n",
    "for i in range(len(temp_cadena)):\n",
    "    labels_val.append(temp_cadena[i] + '\\n(' + str(temp_medicine[i]) + ')')\n",
    "squarify.plot(sizes=chain_category_df['Medicamentos Registrados'], label=labels_val, color=['orange',\"red\",\"green\",\"blue\", \"grey\"], alpha=.4 )\n",
    "plt.axis('off')\n",
    "plt.show()\n"
   ]
  },
  {
   "cell_type": "markdown",
   "metadata": {},
   "source": [
    "## Gráfica 7\n",
    "### Count de categoría por Cadena top5\n",
    "\n",
    "Aquí tienes que hacer un chart con el número de categorías por Top 5 de cadenaS - Eje X = Cadena Eje Y = Categoría"
   ]
  },
  {
   "cell_type": "code",
   "execution_count": 16,
   "metadata": {},
   "outputs": [
    {
     "data": {
      "text/html": [
       "<div>\n",
       "<style scoped>\n",
       "    .dataframe tbody tr th:only-of-type {\n",
       "        vertical-align: middle;\n",
       "    }\n",
       "\n",
       "    .dataframe tbody tr th {\n",
       "        vertical-align: top;\n",
       "    }\n",
       "\n",
       "    .dataframe thead th {\n",
       "        text-align: right;\n",
       "    }\n",
       "</style>\n",
       "<table border=\"1\" class=\"dataframe\">\n",
       "  <thead>\n",
       "    <tr style=\"text-align: right;\">\n",
       "      <th></th>\n",
       "      <th>Cadena</th>\n",
       "      <th>Categoría</th>\n",
       "    </tr>\n",
       "  </thead>\n",
       "  <tbody>\n",
       "    <tr>\n",
       "      <th>0</th>\n",
       "      <td>WAL-MART</td>\n",
       "      <td>3463</td>\n",
       "    </tr>\n",
       "    <tr>\n",
       "      <th>1</th>\n",
       "      <td>SORIANA</td>\n",
       "      <td>3117</td>\n",
       "    </tr>\n",
       "    <tr>\n",
       "      <th>2</th>\n",
       "      <td>BODEGA AURRERA</td>\n",
       "      <td>2803</td>\n",
       "    </tr>\n",
       "    <tr>\n",
       "      <th>3</th>\n",
       "      <td>MEGA COMERCIAL MEXICANA</td>\n",
       "      <td>1967</td>\n",
       "    </tr>\n",
       "    <tr>\n",
       "      <th>4</th>\n",
       "      <td>SUPERAMA</td>\n",
       "      <td>1673</td>\n",
       "    </tr>\n",
       "  </tbody>\n",
       "</table>\n",
       "</div>"
      ],
      "text/plain": [
       "                    Cadena  Categoría\n",
       "0                 WAL-MART       3463\n",
       "1                  SORIANA       3117\n",
       "2           BODEGA AURRERA       2803\n",
       "3  MEGA COMERCIAL MEXICANA       1967\n",
       "4                 SUPERAMA       1673"
      ]
     },
     "execution_count": 16,
     "metadata": {},
     "output_type": "execute_result"
    }
   ],
   "source": [
    "top5_chain = pd.DataFrame([chain_category])\n",
    "top5_chain.columns = top5_chain.columns.droplevel(-1)\n",
    "#Data Frame con el Top 5 de estados con mayores registros de medicamentos\n",
    "top5_chain.transpose().reset_index()"
   ]
  },
  {
   "cell_type": "markdown",
   "metadata": {},
   "source": [
    "# Gráfica 8\n",
    "## % del total de productos de la categoría medicamentos por Cadena Comercial\n",
    "Esta es una métrica que saqué aparte y creo que si es posible podríamos fusionar la primera con la gráfica7 y podemos hacer una gráfica combinada de barras y línea para que salgan ambas métricas. pero l oque sea más fácil\n"
   ]
  },
  {
   "cell_type": "code",
   "execution_count": 17,
   "metadata": {},
   "outputs": [
    {
     "data": {
      "text/plain": [
       "Cadena\n",
       "FARMACIA DEL HOSPITAL     536.142281\n",
       "SANBORN S HNOS.           471.622358\n",
       "FARMATODO                 464.985363\n",
       "I.S.S.S.T.E.              454.451348\n",
       "SUPERMERCADOS SANTA FE    453.014864\n",
       "Name: Precio, dtype: float64"
      ]
     },
     "execution_count": 17,
     "metadata": {},
     "output_type": "execute_result"
    },
    {
     "data": {
      "image/png": "[encoded data removed]",
      "text/plain": [
       "<Figure size 432x288 with 1 Axes>"
      ]
     },
     "metadata": {},
     "output_type": "display_data"
    }
   ],
   "source": [
    "\n",
    "\n",
    "top5_chainperc = top5_chain / category_total\n",
    "top5_chainperc.transpose().style.format(\"{:.2%}\")\n",
    "\n",
    "Top5ChainPerc = top5_chainperc.plot.bar()\n",
    "Top5ChainPerc.set_title('Categorias de Medicamentos/ Estado', fontsize = 18, color= 'DarkBlue')\n",
    "Top5ChainPerc.axis('equal')\n",
    "\n",
    "chain_price = master_2015frame[master_2015frame['Categoría'] == 'MEDICAMENTOS'].groupby(\\\n",
    "                            ['Cadena'])['Precio'].mean().nlargest(5)\n",
    "chain_price\n",
    "\n",
    "#Chainpriceplot = chain_price.plot.barh()\n",
    "#Chainpriceplot.set_title('Categorias de Medicamentos/ Estado', fontsize = 18, color= 'DarkBlue')\n",
    "\n",
    "\n",
    "\n",
    "\n",
    "\n"
   ]
  },
  {
   "cell_type": "markdown",
   "metadata": {},
   "source": [
    "# Gráfica 8\n",
    "## % del total de productos de la categoría medicamentos por Cadena Comercial\n",
    "Esta es una métrica que saqué aparte y creo que si es posible podríamos fusionar la primera con la gráfica7 y podemos hacer una gráfica combinada de barras y línea para que salgan ambas métricas. pero l oque sea más fácil\n"
   ]
  },
  {
   "cell_type": "code",
   "execution_count": 18,
   "metadata": {},
   "outputs": [
    {
     "data": {
      "text/html": [
       "<div>\n",
       "<style scoped>\n",
       "    .dataframe tbody tr th:only-of-type {\n",
       "        vertical-align: middle;\n",
       "    }\n",
       "\n",
       "    .dataframe tbody tr th {\n",
       "        vertical-align: top;\n",
       "    }\n",
       "\n",
       "    .dataframe thead th {\n",
       "        text-align: right;\n",
       "    }\n",
       "</style>\n",
       "<table border=\"1\" class=\"dataframe\">\n",
       "  <thead>\n",
       "    <tr style=\"text-align: right;\">\n",
       "      <th></th>\n",
       "      <th>Precio</th>\n",
       "    </tr>\n",
       "    <tr>\n",
       "      <th>Cadena</th>\n",
       "      <th></th>\n",
       "    </tr>\n",
       "  </thead>\n",
       "  <tbody>\n",
       "    <tr>\n",
       "      <th>FARMACIA DEL HOSPITAL</th>\n",
       "      <td>536.142281</td>\n",
       "    </tr>\n",
       "    <tr>\n",
       "      <th>SANBORN S HNOS.</th>\n",
       "      <td>471.622358</td>\n",
       "    </tr>\n",
       "    <tr>\n",
       "      <th>FARMATODO</th>\n",
       "      <td>464.985363</td>\n",
       "    </tr>\n",
       "    <tr>\n",
       "      <th>I.S.S.S.T.E.</th>\n",
       "      <td>454.451348</td>\n",
       "    </tr>\n",
       "    <tr>\n",
       "      <th>SUPERMERCADOS SANTA FE</th>\n",
       "      <td>453.014864</td>\n",
       "    </tr>\n",
       "  </tbody>\n",
       "</table>\n",
       "</div>"
      ],
      "text/plain": [
       "                            Precio\n",
       "Cadena                            \n",
       "FARMACIA DEL HOSPITAL   536.142281\n",
       "SANBORN S HNOS.         471.622358\n",
       "FARMATODO               464.985363\n",
       "I.S.S.S.T.E.            454.451348\n",
       "SUPERMERCADOS SANTA FE  453.014864"
      ]
     },
     "execution_count": 18,
     "metadata": {},
     "output_type": "execute_result"
    }
   ],
   "source": [
    "top5_chainprice = pd.DataFrame([chain_price])\n",
    "#top5_chainprice.columns = top5_chain.columns.droplevel(-1)\n",
    "#Data Frame con el Top 5 de estados con mayores registros de medicamentos\n",
    "top5_chainprice.transpose()\n",
    "\n"
   ]
  },
  {
   "cell_type": "markdown",
   "metadata": {},
   "source": [
    "# Gráfica 10\n",
    "## % prima o descuento de precio promedio en medicamentos por el top 5 de Cadenas con mayor precio\n",
    "Esta es una métrica que saqué aparte y creo que si es posible podríamos fusionar la primera con la gráfica9 y podemos hacer una gráfica combinada de barras y línea para que salgan ambas métricas. pero l oque sea más fácil\n"
   ]
  },
  {
   "cell_type": "code",
   "execution_count": 19,
   "metadata": {},
   "outputs": [
    {
     "data": {
      "text/html": [
       "<div>\n",
       "<style scoped>\n",
       "    .dataframe tbody tr th:only-of-type {\n",
       "        vertical-align: middle;\n",
       "    }\n",
       "\n",
       "    .dataframe tbody tr th {\n",
       "        vertical-align: top;\n",
       "    }\n",
       "\n",
       "    .dataframe thead th {\n",
       "        text-align: right;\n",
       "    }\n",
       "</style>\n",
       "<table border=\"1\" class=\"dataframe\">\n",
       "  <thead>\n",
       "    <tr style=\"text-align: right;\">\n",
       "      <th>Cadena</th>\n",
       "      <th>FARMACIA DEL HOSPITAL</th>\n",
       "      <th>SANBORN S HNOS.</th>\n",
       "      <th>FARMATODO</th>\n",
       "      <th>I.S.S.S.T.E.</th>\n",
       "      <th>SUPERMERCADOS SANTA FE</th>\n",
       "    </tr>\n",
       "  </thead>\n",
       "  <tbody>\n",
       "    <tr>\n",
       "      <th>Precio</th>\n",
       "      <td>0.412318</td>\n",
       "      <td>0.242358</td>\n",
       "      <td>0.224875</td>\n",
       "      <td>0.197126</td>\n",
       "      <td>0.193342</td>\n",
       "    </tr>\n",
       "  </tbody>\n",
       "</table>\n",
       "</div>"
      ],
      "text/plain": [
       "Cadena  FARMACIA DEL HOSPITAL  SANBORN S HNOS.  FARMATODO  I.S.S.S.T.E.  \\\n",
       "Precio               0.412318         0.242358   0.224875      0.197126   \n",
       "\n",
       "Cadena  SUPERMERCADOS SANTA FE  \n",
       "Precio                0.193342  "
      ]
     },
     "execution_count": 19,
     "metadata": {},
     "output_type": "execute_result"
    }
   ],
   "source": [
    "top5_chainpriceperc = top5_chainprice / avg_medprice - 1\n",
    "top5_chainpriceperc.transpose().style.format(\"{:.2%}\")\n",
    "\n",
    "top5_chainpriceperc"
   ]
  }
 ],
 "metadata": {
  "kernelspec": {
   "display_name": "Python 3",
   "language": "python",
   "name": "python3"
  },
  "language_info": {
   "codemirror_mode": {
    "name": "ipython",
    "version": 3
   },
   "file_extension": ".py",
   "mimetype": "text/x-python",
   "name": "python",
   "nbconvert_exporter": "python",
   "pygments_lexer": "ipython3",
   "version": "3.6.5"
  }
 },
 "nbformat": 4,
 "nbformat_minor": 2
}
