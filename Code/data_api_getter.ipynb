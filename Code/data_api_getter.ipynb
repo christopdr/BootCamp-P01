{
 "cells": [
  {
   "cell_type": "code",
   "execution_count": 1,
   "metadata": {},
   "outputs": [],
   "source": [
    "import requests\n",
    "import json\n",
    "import pandas as pd"
   ]
  },
  {
   "cell_type": "code",
   "execution_count": 6,
   "metadata": {},
   "outputs": [
    {
     "name": "stdout",
     "output_type": "stream",
     "text": [
      "Server Response: <Response [200]>\n"
     ]
    }
   ],
   "source": [
    "url = \"https://api.datos.gob.mx/v2/profeco.precios\"\n",
    "response = requests.get(url)\n",
    "print(\"Server Response: \" + str(response))\n"
   ]
  },
  {
   "cell_type": "code",
   "execution_count": 22,
   "metadata": {},
   "outputs": [
    {
     "name": "stdout",
     "output_type": "stream",
     "text": [
      "Number of elements in Profeco Database: 219584\n"
     ]
    }
   ],
   "source": [
    "total_size = response_json[\"pagination\"][\"total\"]\n",
    "print('Number of elements in Profeco Database: ' + str(total_size))\n"
   ]
  },
  {
   "cell_type": "code",
   "execution_count": 36,
   "metadata": {},
   "outputs": [
    {
     "name": "stdout",
     "output_type": "stream",
     "text": [
      "219584\n"
     ]
    }
   ],
   "source": [
    "page_number = round(total_size/1000)\n",
    "page_size = 1000\n",
    "url_param1 = '?pageSize='\n",
    "url_param2 = '&page='\n",
    "#https://api.datos.gob.mx/v2/profeco.precios?pageSize=1000&page=1\n",
    "search_url = ''\n",
    "json_list = []\n",
    "for page in range(1,page_number + 1): #\n",
    "    if page == page_number:\n",
    "        search_url = url + url_param1 + str(total_size%1000) + url_param2 + str(page)\n",
    "    else:\n",
    "        search_url = url + url_param1 + str(page_size) + url_param2 + str(page)\n",
    "        \n",
    "    json_data = requests.get(search_url).json()\n",
    "    json_list = json_list + json_data['results']\n",
    "    #print('Page: ' + str(page))\n",
    "    #print('No. Elements: ' + str(len(json_data['results'])))\n",
    "    #print('Working...')\n",
    "\n",
    "print(len(json_list))"
   ]
  },
  {
   "cell_type": "code",
   "execution_count": 37,
   "metadata": {},
   "outputs": [
    {
     "data": {
      "text/html": [
       "<div>\n",
       "<style scoped>\n",
       "    .dataframe tbody tr th:only-of-type {\n",
       "        vertical-align: middle;\n",
       "    }\n",
       "\n",
       "    .dataframe tbody tr th {\n",
       "        vertical-align: top;\n",
       "    }\n",
       "\n",
       "    .dataframe thead th {\n",
       "        text-align: right;\n",
       "    }\n",
       "</style>\n",
       "<table border=\"1\" class=\"dataframe\">\n",
       "  <thead>\n",
       "    <tr style=\"text-align: right;\">\n",
       "      <th></th>\n",
       "      <th>_id</th>\n",
       "      <th>cadenaComercial</th>\n",
       "      <th>catalogo</th>\n",
       "      <th>categoria</th>\n",
       "      <th>direccion</th>\n",
       "      <th>estado</th>\n",
       "      <th>fechaRegistro</th>\n",
       "      <th>giro</th>\n",
       "      <th>latitud</th>\n",
       "      <th>longitud</th>\n",
       "      <th>marca</th>\n",
       "      <th>municipio</th>\n",
       "      <th>nombreComercial</th>\n",
       "      <th>precio</th>\n",
       "      <th>presentacion</th>\n",
       "      <th>producto</th>\n",
       "      <th>razonSocial</th>\n",
       "      <th>rfc</th>\n",
       "    </tr>\n",
       "  </thead>\n",
       "  <tbody>\n",
       "    <tr>\n",
       "      <th>219581</th>\n",
       "      <td>5744ae23714d0c010072fcde</td>\n",
       "      <td>WAL-MART</td>\n",
       "      <td>BASICOS</td>\n",
       "      <td>ARTS. DE PAPEL P/HIGIENE PERSONAL</td>\n",
       "      <td>BLVD. LUIS DONALDO COLOSIO MZA. 1 FRACC. 1 200...</td>\n",
       "      <td>HIDALGO</td>\n",
       "      <td>2015-02-10 00:00:00.000</td>\n",
       "      <td>TIENDA DE AUTOSERVICIO</td>\n",
       "      <td>20.094526</td>\n",
       "      <td>-98.758178</td>\n",
       "      <td>KLEENEX. COTTONELLE</td>\n",
       "      <td>PACHUCA DE SOTO</td>\n",
       "      <td>WAL MART SUCURSAL COMBO PACHUCA</td>\n",
       "      <td>131.00</td>\n",
       "      <td>PAQUETE 32 ROLLOS. 185 HOJAS DOBLES. UNIQUE</td>\n",
       "      <td>PAPEL HIGIENICO</td>\n",
       "      <td></td>\n",
       "      <td></td>\n",
       "    </tr>\n",
       "    <tr>\n",
       "      <th>219582</th>\n",
       "      <td>5744ae23714d0c010072fcdf</td>\n",
       "      <td>WAL-MART</td>\n",
       "      <td>BASICOS</td>\n",
       "      <td>ARTS. DE PAPEL P/HIGIENE PERSONAL</td>\n",
       "      <td>VALLARTA NO.5455 ESQUINA RAFAEL SANCIO, COL. F...</td>\n",
       "      <td>JALISCO</td>\n",
       "      <td>2015-02-10 00:00:00.000</td>\n",
       "      <td>TIENDA DE AUTOSERVICIO</td>\n",
       "      <td>20.678954</td>\n",
       "      <td>-103.429244</td>\n",
       "      <td>KLEENEX. COTTONELLE</td>\n",
       "      <td>ZAPOPAN</td>\n",
       "      <td>WALMART SUCURSAL VALLARTA</td>\n",
       "      <td>134.00</td>\n",
       "      <td>PAQUETE 32 ROLLOS. 185 HOJAS DOBLES. UNIQUE</td>\n",
       "      <td>PAPEL HIGIENICO</td>\n",
       "      <td></td>\n",
       "      <td></td>\n",
       "    </tr>\n",
       "    <tr>\n",
       "      <th>219583</th>\n",
       "      <td>5744ae23714d0c010072fce0</td>\n",
       "      <td>SUPERAMA</td>\n",
       "      <td>BASICOS</td>\n",
       "      <td>ARTS. DE PAPEL P/HIGIENE PERSONAL</td>\n",
       "      <td>MICHOACAN 38, COL. HIPODROMO CONDESA, CP. 06170</td>\n",
       "      <td>DISTRITO FEDERAL</td>\n",
       "      <td>2015-02-10 00:00:00.000</td>\n",
       "      <td>TIENDA DE AUTOSERVICIO</td>\n",
       "      <td>19.411468</td>\n",
       "      <td>-99.171176</td>\n",
       "      <td>KLEENEX. COTTONELLE</td>\n",
       "      <td>CUAUHTÉMOC</td>\n",
       "      <td>SUPERAMA SUCURSAL MICHOACAN</td>\n",
       "      <td>134.00</td>\n",
       "      <td>PAQUETE 32 ROLLOS. 185 HOJAS DOBLES. UNIQUE</td>\n",
       "      <td>PAPEL HIGIENICO</td>\n",
       "      <td></td>\n",
       "      <td></td>\n",
       "    </tr>\n",
       "  </tbody>\n",
       "</table>\n",
       "</div>"
      ],
      "text/plain": [
       "                             _id cadenaComercial catalogo  \\\n",
       "219581  5744ae23714d0c010072fcde        WAL-MART  BASICOS   \n",
       "219582  5744ae23714d0c010072fcdf        WAL-MART  BASICOS   \n",
       "219583  5744ae23714d0c010072fce0        SUPERAMA  BASICOS   \n",
       "\n",
       "                                categoria  \\\n",
       "219581  ARTS. DE PAPEL P/HIGIENE PERSONAL   \n",
       "219582  ARTS. DE PAPEL P/HIGIENE PERSONAL   \n",
       "219583  ARTS. DE PAPEL P/HIGIENE PERSONAL   \n",
       "\n",
       "                                                direccion            estado  \\\n",
       "219581  BLVD. LUIS DONALDO COLOSIO MZA. 1 FRACC. 1 200...           HIDALGO   \n",
       "219582  VALLARTA NO.5455 ESQUINA RAFAEL SANCIO, COL. F...           JALISCO   \n",
       "219583    MICHOACAN 38, COL. HIPODROMO CONDESA, CP. 06170  DISTRITO FEDERAL   \n",
       "\n",
       "                  fechaRegistro                    giro    latitud  \\\n",
       "219581  2015-02-10 00:00:00.000  TIENDA DE AUTOSERVICIO  20.094526   \n",
       "219582  2015-02-10 00:00:00.000  TIENDA DE AUTOSERVICIO  20.678954   \n",
       "219583  2015-02-10 00:00:00.000  TIENDA DE AUTOSERVICIO  19.411468   \n",
       "\n",
       "           longitud                marca        municipio  \\\n",
       "219581   -98.758178  KLEENEX. COTTONELLE  PACHUCA DE SOTO   \n",
       "219582  -103.429244  KLEENEX. COTTONELLE          ZAPOPAN   \n",
       "219583   -99.171176  KLEENEX. COTTONELLE       CUAUHTÉMOC   \n",
       "\n",
       "                        nombreComercial  precio  \\\n",
       "219581  WAL MART SUCURSAL COMBO PACHUCA  131.00   \n",
       "219582        WALMART SUCURSAL VALLARTA  134.00   \n",
       "219583      SUPERAMA SUCURSAL MICHOACAN  134.00   \n",
       "\n",
       "                                       presentacion         producto  \\\n",
       "219581  PAQUETE 32 ROLLOS. 185 HOJAS DOBLES. UNIQUE  PAPEL HIGIENICO   \n",
       "219582  PAQUETE 32 ROLLOS. 185 HOJAS DOBLES. UNIQUE  PAPEL HIGIENICO   \n",
       "219583  PAQUETE 32 ROLLOS. 185 HOJAS DOBLES. UNIQUE  PAPEL HIGIENICO   \n",
       "\n",
       "       razonSocial rfc  \n",
       "219581                  \n",
       "219582                  \n",
       "219583                  "
      ]
     },
     "execution_count": 37,
     "metadata": {},
     "output_type": "execute_result"
    }
   ],
   "source": [
    "data_frame = pd.DataFrame(json_list)\n",
    "data_frame.to_csv('Profeco_Catalog.csv')\n",
    "data_frame.tail(3)"
   ]
  },
  {
   "cell_type": "code",
   "execution_count": null,
   "metadata": {},
   "outputs": [],
   "source": []
  },
  {
   "cell_type": "code",
   "execution_count": null,
   "metadata": {},
   "outputs": [],
   "source": []
  },
  {
   "cell_type": "code",
   "execution_count": null,
   "metadata": {},
   "outputs": [],
   "source": []
  }
 ],
 "metadata": {
  "kernelspec": {
   "display_name": "Python 3",
   "language": "python",
   "name": "python3"
  },
  "language_info": {
   "codemirror_mode": {
    "name": "ipython",
    "version": 3
   },
   "file_extension": ".py",
   "mimetype": "text/x-python",
   "name": "python",
   "nbconvert_exporter": "python",
   "pygments_lexer": "ipython3",
   "version": "3.6.5"
  }
 },
 "nbformat": 4,
 "nbformat_minor": 2
}
