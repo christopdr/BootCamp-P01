{
 "cells": [
  {
   "cell_type": "code",
   "execution_count": 124,
   "metadata": {},
   "outputs": [],
   "source": [
    "import requests\n",
    "import json\n",
    "import pandas as pd\n",
    "from datetime import datetime\n",
    "import numpy as np\n",
    "import matplotlib.pyplot as plt\n",
    "%matplotlib inline"
   ]
  },
  {
   "cell_type": "code",
   "execution_count": null,
   "metadata": {},
   "outputs": [],
   "source": []
  },
  {
   "cell_type": "code",
   "execution_count": 125,
   "metadata": {},
   "outputs": [
    {
     "data": {
      "text/html": [
       "<div>\n",
       "<style scoped>\n",
       "    .dataframe tbody tr th:only-of-type {\n",
       "        vertical-align: middle;\n",
       "    }\n",
       "\n",
       "    .dataframe tbody tr th {\n",
       "        vertical-align: top;\n",
       "    }\n",
       "\n",
       "    .dataframe thead th {\n",
       "        text-align: right;\n",
       "    }\n",
       "</style>\n",
       "<table border=\"1\" class=\"dataframe\">\n",
       "  <thead>\n",
       "    <tr style=\"text-align: right;\">\n",
       "      <th></th>\n",
       "      <th>Unnamed: 0</th>\n",
       "      <th>_id</th>\n",
       "      <th>cadenaComercial</th>\n",
       "      <th>catalogo</th>\n",
       "      <th>categoria</th>\n",
       "      <th>direccion</th>\n",
       "      <th>estado</th>\n",
       "      <th>fechaRegistro</th>\n",
       "      <th>giro</th>\n",
       "      <th>latitud</th>\n",
       "      <th>longitud</th>\n",
       "      <th>marca</th>\n",
       "      <th>municipio</th>\n",
       "      <th>nombreComercial</th>\n",
       "      <th>precio</th>\n",
       "      <th>presentacion</th>\n",
       "      <th>producto</th>\n",
       "      <th>razonSocial</th>\n",
       "      <th>rfc</th>\n",
       "    </tr>\n",
       "  </thead>\n",
       "  <tbody>\n",
       "    <tr>\n",
       "      <th>0</th>\n",
       "      <td>0</td>\n",
       "      <td>571e4c002f232201006c6cac</td>\n",
       "      <td>HIPERMERCADO SORIANA</td>\n",
       "      <td>BASICOS</td>\n",
       "      <td>TORTILLAS Y DERIVADOS DEL MAIZ</td>\n",
       "      <td>BLVD. ADOLFO LOPEZ MATEOS 1100, ESQ. CALAFIA, ...</td>\n",
       "      <td>BAJA CALIFORNIA</td>\n",
       "      <td>2015-02-10</td>\n",
       "      <td>TIENDA DE AUTOSERVICIO</td>\n",
       "      <td>32.641719</td>\n",
       "      <td>-115.469582</td>\n",
       "      <td>S/M</td>\n",
       "      <td>MEXICALI</td>\n",
       "      <td>SORIANA HIPER SUCURSAL CALAFIA</td>\n",
       "      <td>11.9</td>\n",
       "      <td>1 KG. GRANEL</td>\n",
       "      <td>TORTILLA DE MAIZ</td>\n",
       "      <td>NaN</td>\n",
       "      <td>NaN</td>\n",
       "    </tr>\n",
       "  </tbody>\n",
       "</table>\n",
       "</div>"
      ],
      "text/plain": [
       "   Unnamed: 0                       _id       cadenaComercial catalogo  \\\n",
       "0           0  571e4c002f232201006c6cac  HIPERMERCADO SORIANA  BASICOS   \n",
       "\n",
       "                        categoria  \\\n",
       "0  TORTILLAS Y DERIVADOS DEL MAIZ   \n",
       "\n",
       "                                           direccion           estado  \\\n",
       "0  BLVD. ADOLFO LOPEZ MATEOS 1100, ESQ. CALAFIA, ...  BAJA CALIFORNIA   \n",
       "\n",
       "  fechaRegistro                    giro    latitud    longitud marca  \\\n",
       "0    2015-02-10  TIENDA DE AUTOSERVICIO  32.641719 -115.469582   S/M   \n",
       "\n",
       "  municipio                 nombreComercial  precio  presentacion  \\\n",
       "0  MEXICALI  SORIANA HIPER SUCURSAL CALAFIA    11.9  1 KG. GRANEL   \n",
       "\n",
       "           producto  razonSocial  rfc  \n",
       "0  TORTILLA DE MAIZ          NaN  NaN  "
      ]
     },
     "execution_count": 125,
     "metadata": {},
     "output_type": "execute_result"
    }
   ],
   "source": [
    "raw_data = pd.read_csv('Profeco_Catalog.csv')\n",
    "raw_data.head(1)"
   ]
  },
  {
   "cell_type": "code",
   "execution_count": 102,
   "metadata": {
    "scrolled": true
   },
   "outputs": [
    {
     "data": {
      "text/html": [
       "<div>\n",
       "<style scoped>\n",
       "    .dataframe tbody tr th:only-of-type {\n",
       "        vertical-align: middle;\n",
       "    }\n",
       "\n",
       "    .dataframe tbody tr th {\n",
       "        vertical-align: top;\n",
       "    }\n",
       "\n",
       "    .dataframe thead th {\n",
       "        text-align: right;\n",
       "    }\n",
       "</style>\n",
       "<table border=\"1\" class=\"dataframe\">\n",
       "  <thead>\n",
       "    <tr style=\"text-align: right;\">\n",
       "      <th></th>\n",
       "      <th>ID</th>\n",
       "      <th>Cadena</th>\n",
       "      <th>Categoría</th>\n",
       "      <th>Estado</th>\n",
       "      <th>Fecha</th>\n",
       "      <th>Latitud</th>\n",
       "      <th>Longitud</th>\n",
       "      <th>Marca</th>\n",
       "      <th>Municipio</th>\n",
       "      <th>Precio</th>\n",
       "      <th>Presentación</th>\n",
       "      <th>Producto</th>\n",
       "    </tr>\n",
       "  </thead>\n",
       "  <tbody>\n",
       "    <tr>\n",
       "      <th>0</th>\n",
       "      <td>571e4c002f232201006c6cac</td>\n",
       "      <td>HIPERMERCADO SORIANA</td>\n",
       "      <td>TORTILLAS Y DERIVADOS DEL MAIZ</td>\n",
       "      <td>BAJA CALIFORNIA</td>\n",
       "      <td>2015-02-10</td>\n",
       "      <td>32.641719</td>\n",
       "      <td>-115.469582</td>\n",
       "      <td>S/M</td>\n",
       "      <td>MEXICALI</td>\n",
       "      <td>11.9</td>\n",
       "      <td>1 KG. GRANEL</td>\n",
       "      <td>TORTILLA DE MAIZ</td>\n",
       "    </tr>\n",
       "  </tbody>\n",
       "</table>\n",
       "</div>"
      ],
      "text/plain": [
       "                         ID                Cadena  \\\n",
       "0  571e4c002f232201006c6cac  HIPERMERCADO SORIANA   \n",
       "\n",
       "                        Categoría           Estado       Fecha    Latitud  \\\n",
       "0  TORTILLAS Y DERIVADOS DEL MAIZ  BAJA CALIFORNIA  2015-02-10  32.641719   \n",
       "\n",
       "     Longitud Marca Municipio  Precio  Presentación          Producto  \n",
       "0 -115.469582   S/M  MEXICALI    11.9  1 KG. GRANEL  TORTILLA DE MAIZ  "
      ]
     },
     "execution_count": 102,
     "metadata": {},
     "output_type": "execute_result"
    }
   ],
   "source": [
    "master_frame = raw_data.drop(columns = ['giro','razonSocial','rfc','catalogo','Unnamed: 0','direccion','nombreComercial']).reset_index(drop=True).rename(index=str, columns={\"_id\": \"ID\", \"cadenaComercial\": \"Cadena\", \"categoria\": \"Categoría\", \"estado\": \"Estado\", \"fechaRegistro\": \"Fecha\", \"latitud\": \"Latitud\", \"longitud\": \"Longitud\", \"marca\": \"Marca\", \"municipio\": \"Municipio\", \"precio\": \"Precio\", \"presentacion\": \"Presentación\", \"producto\": \"Producto\"})\n",
    "master_frame.head(1)"
   ]
  },
  {
   "cell_type": "code",
   "execution_count": 126,
   "metadata": {
    "scrolled": false
   },
   "outputs": [
    {
     "data": {
      "text/plain": [
       "Fecha\n",
       "2012-01-10      9063\n",
       "2013-01-10     40539\n",
       "2015-02-10    131192\n",
       "2016-05-10     38788\n",
       "Name: Fecha, dtype: int64"
      ]
     },
     "execution_count": 126,
     "metadata": {},
     "output_type": "execute_result"
    }
   ],
   "source": [
    "df_year_registry = master_frame.groupby('Fecha')['Fecha'].count()\n",
    "df_year_registry"
   ]
  },
  {
   "cell_type": "code",
   "execution_count": 201,
   "metadata": {
    "scrolled": false
   },
   "outputs": [
    {
     "data": {
      "text/plain": [
       "Text(0.5,1,'Registro de Productos/ Año: Profeco')"
      ]
     },
     "execution_count": 201,
     "metadata": {},
     "output_type": "execute_result"
    },
    {
     "data": {
      "image/png": "[encoded data removed]",
      "text/plain": [
       "<Figure size 432x288 with 1 Axes>"
      ]
     },
     "metadata": {
      "needs_background": "light"
     },
     "output_type": "display_data"
    }
   ],
   "source": [
    "Year_RegChart = df_year_registry.plot.bar()\n",
    "Year_RegChart.set_ylabel('Registros')\n",
    "Year_RegChart.set_title('Registro de Productos/ Año: Profeco',fontsize = 18, color= 'DarkBlue')"
   ]
  },
  {
   "cell_type": "code",
   "execution_count": null,
   "metadata": {},
   "outputs": [],
   "source": []
  },
  {
   "cell_type": "code",
   "execution_count": 105,
   "metadata": {
    "scrolled": true
   },
   "outputs": [
    {
     "data": {
      "text/plain": [
       "Categoría\n",
       "MEDICAMENTOS                         20720\n",
       "ARTS. PARA EL CUIDADO PERSONAL       10446\n",
       "APARATOS ELECTRICOS                   8286\n",
       "DETERGENTES Y PRODUCTOS SIMILARES     7660\n",
       "DERIVADOS DE LECHE                    7312\n",
       "CARNES FRIAS SECAS Y EMBUTIDOS        6812\n",
       "REFRESCOS ENVASADOS                   6216\n",
       "CONDIMENTOS                           5964\n",
       "FRUTAS Y LEGUMBRES PROCESADAS         5868\n",
       "APARATOS ELECTRONICOS                 5684\n",
       "Name: Categoría, dtype: int64"
      ]
     },
     "execution_count": 105,
     "metadata": {},
     "output_type": "execute_result"
    }
   ],
   "source": [
    "master_2015frame = master_frame[(master_frame['Fecha'] == '2015-02-10')]\n",
    "#master_2015frame\n",
    "df_category = master_2015frame.groupby('Categoría')['Categoría'].count().nlargest(10)\n",
    "df_category"
   ]
  },
  {
   "cell_type": "code",
   "execution_count": 259,
   "metadata": {
    "scrolled": false
   },
   "outputs": [
    {
     "data": {
      "text/plain": [
       "Text(0.5,1,'Registros por Categoria')"
      ]
     },
     "execution_count": 259,
     "metadata": {},
     "output_type": "execute_result"
    },
    {
     "data": {
      "image/png": "[encoded data removed]",
      "text/plain": [
       "<Figure size 432x288 with 1 Axes>"
      ]
     },
     "metadata": {},
     "output_type": "display_data"
    }
   ],
   "source": [
    "Category_Plot_pie = df_category.plot.pie()\n",
    "Category_Plot_pie.axis('equal')\n",
    "Category_Plot_pie.set_title('Registros por Categoria',fontsize = 18, color= 'DarkBlue')"
   ]
  },
  {
   "cell_type": "code",
   "execution_count": 199,
   "metadata": {},
   "outputs": [
    {
     "data": {
      "text/plain": [
       "Text(0.5,1,'Registros por Categoria')"
      ]
     },
     "execution_count": 199,
     "metadata": {},
     "output_type": "execute_result"
    },
    {
     "data": {
      "image/png": "[encoded data removed]",
      "text/plain": [
       "<Figure size 432x288 with 1 Axes>"
      ]
     },
     "metadata": {
      "needs_background": "light"
     },
     "output_type": "display_data"
    }
   ],
   "source": [
    "Category_Plot = df_category.plot.barh()\n",
    "Category_Plot.set_xlabel('Registros')\n",
    "Category_Plot.set_title('Registros por Categoria', fontsize = 18, color= 'DarkBlue')"
   ]
  },
  {
   "cell_type": "code",
   "execution_count": 107,
   "metadata": {
    "scrolled": true
   },
   "outputs": [
    {
     "data": {
      "text/plain": [
       "['BAJA CALIFORNIA',\n",
       " 'BAJA CALIFORNIA SUR',\n",
       " 'ZACATECAS',\n",
       " 'YUCATÁN',\n",
       " 'TAMAULIPAS',\n",
       " 'TLAXCALA',\n",
       " 'SONORA',\n",
       " 'TABASCO',\n",
       " 'SINALOA',\n",
       " 'QUINTANA ROO',\n",
       " 'VERACRUZ DE IGNACIO DE LA LLAVE',\n",
       " 'SAN LUIS POTOSÍ',\n",
       " 'NAYARIT',\n",
       " 'NUEVO LEÓN',\n",
       " 'OAXACA',\n",
       " 'QUERÉTARO',\n",
       " 'JALISCO',\n",
       " 'MÉXICO',\n",
       " 'PUEBLA',\n",
       " 'MICHOACÁN DE OCAMPO',\n",
       " 'MORELOS',\n",
       " 'DISTRITO FEDERAL',\n",
       " 'AGUASCALIENTES',\n",
       " 'GUERRERO',\n",
       " 'HIDALGO',\n",
       " 'GUANAJUATO',\n",
       " 'DURANGO',\n",
       " 'COLIMA',\n",
       " 'CHIAPAS',\n",
       " 'COAHUILA DE ZARAGOZA',\n",
       " 'CHIHUAHUA',\n",
       " 'CAMPECHE',\n",
       " 'M��XICO']"
      ]
     },
     "execution_count": 107,
     "metadata": {},
     "output_type": "execute_result"
    }
   ],
   "source": [
    "#Estados = Master[\"Estado\"].nunique()\n",
    "Estados = master_2015frame.drop_duplicates(\"Estado\")\n",
    "#Estados.head(100)\n",
    "Estados = Estados[\"Estado\"].tolist()\n",
    "Estados"
   ]
  },
  {
   "cell_type": "code",
   "execution_count": 108,
   "metadata": {
    "scrolled": false
   },
   "outputs": [
    {
     "data": {
      "text/plain": [
       "20720"
      ]
     },
     "execution_count": 108,
     "metadata": {},
     "output_type": "execute_result"
    }
   ],
   "source": [
    "category_state = master_2015frame[master_2015frame['Categoría'] == 'MEDICAMENTOS'].groupby(\\\n",
    "                            ['Estado', 'Categoría'])['Categoría'].count().nlargest(5)\n",
    "#category_state\n",
    "category_total = master_2015frame[master_2015frame['Categoría'] == 'MEDICAMENTOS'].count()\n",
    "category_total = category_total['ID']\n",
    "category_total"
   ]
  },
  {
   "cell_type": "code",
   "execution_count": 48,
   "metadata": {},
   "outputs": [],
   "source": [
    "#master_frame.groupby(master_frame['Fecha'].date.dt.year)"
   ]
  },
  {
   "cell_type": "markdown",
   "metadata": {},
   "source": [
    "## Gráfica 3\n",
    "### Count de categoría por Estado\n",
    "\n",
    "Aquí tienes que hacer un chart con el número de categorías por Top 5 de estados - Eje X = Estado Eje Y = Categoría"
   ]
  },
  {
   "cell_type": "code",
   "execution_count": 109,
   "metadata": {},
   "outputs": [
    {
     "data": {
      "text/html": [
       "<div>\n",
       "<style scoped>\n",
       "    .dataframe tbody tr th:only-of-type {\n",
       "        vertical-align: middle;\n",
       "    }\n",
       "\n",
       "    .dataframe tbody tr th {\n",
       "        vertical-align: top;\n",
       "    }\n",
       "\n",
       "    .dataframe thead th {\n",
       "        text-align: right;\n",
       "    }\n",
       "</style>\n",
       "<table border=\"1\" class=\"dataframe\">\n",
       "  <thead>\n",
       "    <tr style=\"text-align: right;\">\n",
       "      <th></th>\n",
       "      <th>Estado</th>\n",
       "      <th>Categoría</th>\n",
       "    </tr>\n",
       "  </thead>\n",
       "  <tbody>\n",
       "    <tr>\n",
       "      <th>0</th>\n",
       "      <td>DISTRITO FEDERAL</td>\n",
       "      <td>4558</td>\n",
       "    </tr>\n",
       "    <tr>\n",
       "      <th>1</th>\n",
       "      <td>MÉXICO</td>\n",
       "      <td>4223</td>\n",
       "    </tr>\n",
       "    <tr>\n",
       "      <th>2</th>\n",
       "      <td>GUANAJUATO</td>\n",
       "      <td>1992</td>\n",
       "    </tr>\n",
       "    <tr>\n",
       "      <th>3</th>\n",
       "      <td>NUEVO LEÓN</td>\n",
       "      <td>1558</td>\n",
       "    </tr>\n",
       "    <tr>\n",
       "      <th>4</th>\n",
       "      <td>JALISCO</td>\n",
       "      <td>1328</td>\n",
       "    </tr>\n",
       "  </tbody>\n",
       "</table>\n",
       "</div>"
      ],
      "text/plain": [
       "             Estado  Categoría\n",
       "0  DISTRITO FEDERAL       4558\n",
       "1            MÉXICO       4223\n",
       "2        GUANAJUATO       1992\n",
       "3        NUEVO LEÓN       1558\n",
       "4           JALISCO       1328"
      ]
     },
     "execution_count": 109,
     "metadata": {},
     "output_type": "execute_result"
    }
   ],
   "source": [
    "top5_category = pd.DataFrame([category_state])\n",
    "top5_category.columns = top5_category.columns.droplevel(-1)\n",
    "#Data Frame con el Top 5 de estados con mayores registros de medicamentos\n",
    "top5_category.transpose().reset_index()\n"
   ]
  },
  {
   "cell_type": "code",
   "execution_count": 239,
   "metadata": {},
   "outputs": [
    {
     "data": {
      "text/plain": [
       "Text(0.5,1,'Categorias por Estado')"
      ]
     },
     "execution_count": 239,
     "metadata": {},
     "output_type": "execute_result"
    },
    {
     "data": {
      "image/png": "[encoded data removed]",
      "text/plain": [
       "<Figure size 432x288 with 1 Axes>"
      ]
     },
     "metadata": {
      "needs_background": "light"
     },
     "output_type": "display_data"
    }
   ],
   "source": [
    "#x='Estado', y='Categoría', rot=0\n",
    "Top5Chart = top5_category.plot.bar()\n",
    "Top5Chart.set_ylabel('Categorias')\n",
    "Top5Chart.set_title('Categorias por Estado', fontsize = 18, color= 'DarkBlue')"
   ]
  },
  {
   "cell_type": "markdown",
   "metadata": {},
   "source": [
    "## Gráfica 4\n",
    "### % del total de productos de la categoría medicamentos por Estado\n",
    "\n",
    "Esta es una métrica que saqué aparte y creo que si es posible podríamos fusionar la primera con la gráfica3 y podemos hacer una gráfica combinada de barras y línea para que salgan ambas métricas. pero l oque sea más fácil"
   ]
  },
  {
   "cell_type": "code",
   "execution_count": 194,
   "metadata": {
    "scrolled": true
   },
   "outputs": [
    {
     "data": {
      "text/html": [
       "<style  type=\"text/css\" >\n",
       "</style>  \n",
       "<table id=\"T_401614ae_19b0_11e9_9ab6_60f81daf787e\" > \n",
       "<thead>    <tr> \n",
       "        <th class=\"blank level0\" ></th> \n",
       "        <th class=\"col_heading level0 col0\" >Categoría</th> \n",
       "    </tr>    <tr> \n",
       "        <th class=\"index_name level0\" >Estado</th> \n",
       "        <th class=\"blank\" ></th> \n",
       "    </tr></thead> \n",
       "<tbody>    <tr> \n",
       "        <th id=\"T_401614ae_19b0_11e9_9ab6_60f81daf787elevel0_row0\" class=\"row_heading level0 row0\" >DISTRITO FEDERAL</th> \n",
       "        <td id=\"T_401614ae_19b0_11e9_9ab6_60f81daf787erow0_col0\" class=\"data row0 col0\" >22.00%</td> \n",
       "    </tr>    <tr> \n",
       "        <th id=\"T_401614ae_19b0_11e9_9ab6_60f81daf787elevel0_row1\" class=\"row_heading level0 row1\" >MÉXICO</th> \n",
       "        <td id=\"T_401614ae_19b0_11e9_9ab6_60f81daf787erow1_col0\" class=\"data row1 col0\" >20.38%</td> \n",
       "    </tr>    <tr> \n",
       "        <th id=\"T_401614ae_19b0_11e9_9ab6_60f81daf787elevel0_row2\" class=\"row_heading level0 row2\" >GUANAJUATO</th> \n",
       "        <td id=\"T_401614ae_19b0_11e9_9ab6_60f81daf787erow2_col0\" class=\"data row2 col0\" >9.61%</td> \n",
       "    </tr>    <tr> \n",
       "        <th id=\"T_401614ae_19b0_11e9_9ab6_60f81daf787elevel0_row3\" class=\"row_heading level0 row3\" >NUEVO LEÓN</th> \n",
       "        <td id=\"T_401614ae_19b0_11e9_9ab6_60f81daf787erow3_col0\" class=\"data row3 col0\" >7.52%</td> \n",
       "    </tr>    <tr> \n",
       "        <th id=\"T_401614ae_19b0_11e9_9ab6_60f81daf787elevel0_row4\" class=\"row_heading level0 row4\" >JALISCO</th> \n",
       "        <td id=\"T_401614ae_19b0_11e9_9ab6_60f81daf787erow4_col0\" class=\"data row4 col0\" >6.41%</td> \n",
       "    </tr></tbody> \n",
       "</table> "
      ],
      "text/plain": [
       "<pandas.io.formats.style.Styler at 0x129b65ba8>"
      ]
     },
     "execution_count": 194,
     "metadata": {},
     "output_type": "execute_result"
    }
   ],
   "source": [
    "#Data Frame con el Top 5 de estados con el % de contribución del total de registros de medicamentos\n",
    "top5_categoryperc = top5_category / category_total\n",
    "other = category_total - top5_category\n",
    "top5_categoryperc.transpose().style.format(\"{:.2%}\")"
   ]
  },
  {
   "cell_type": "code",
   "execution_count": 191,
   "metadata": {},
   "outputs": [
    {
     "ename": "NameError",
     "evalue": "name 'x' is not defined",
     "output_type": "error",
     "traceback": [
      "\u001b[0;31m---------------------------------------------------------------------------\u001b[0m",
      "\u001b[0;31mNameError\u001b[0m                                 Traceback (most recent call last)",
      "\u001b[0;32m<ipython-input-191-fde80e3e7889>\u001b[0m in \u001b[0;36m<module>\u001b[0;34m()\u001b[0m\n\u001b[0;32m----> 1\u001b[0;31m \u001b[0mCategory_perc\u001b[0m \u001b[0;34m=\u001b[0m \u001b[0mtop5_categoryperc\u001b[0m\u001b[0;34m.\u001b[0m\u001b[0mplot\u001b[0m\u001b[0;34m.\u001b[0m\u001b[0mpie\u001b[0m\u001b[0;34m(\u001b[0m\u001b[0mx\u001b[0m\u001b[0;34m=\u001b[0m\u001b[0mx\u001b[0m\u001b[0;34m,\u001b[0m \u001b[0my\u001b[0m\u001b[0;34m=\u001b[0m\u001b[0my\u001b[0m\u001b[0;34m)\u001b[0m\u001b[0;34m\u001b[0m\u001b[0m\n\u001b[0m\u001b[1;32m      2\u001b[0m \u001b[0mx\u001b[0m\u001b[0;34m=\u001b[0m \u001b[0;34m[\u001b[0m\u001b[0;34m'DISTRITO FEDERAL'\u001b[0m\u001b[0;34m,\u001b[0m \u001b[0;34m'MÉXICO'\u001b[0m\u001b[0;34m,\u001b[0m \u001b[0;34m'GUANAJUATO'\u001b[0m\u001b[0;34m,\u001b[0m \u001b[0;34m'NUEVO LEÓN'\u001b[0m\u001b[0;34m,\u001b[0m \u001b[0;34m'JALISCO'\u001b[0m\u001b[0;34m]\u001b[0m\u001b[0;34m\u001b[0m\u001b[0m\n\u001b[1;32m      3\u001b[0m \u001b[0my\u001b[0m\u001b[0;34m=\u001b[0m \u001b[0;34m[\u001b[0m\u001b[0mtop5_categoryperc\u001b[0m\u001b[0;34m(\u001b[0m\u001b[0;34m'Categoría'\u001b[0m\u001b[0;34m)\u001b[0m\u001b[0;34m]\u001b[0m\u001b[0;34m\u001b[0m\u001b[0m\n\u001b[1;32m      4\u001b[0m \u001b[0mCategory_perc\u001b[0m\u001b[0;34m.\u001b[0m\u001b[0mset_title\u001b[0m\u001b[0;34m(\u001b[0m\u001b[0;34m'Porcentaje de Categoria por Estado'\u001b[0m\u001b[0;34m)\u001b[0m\u001b[0;34m\u001b[0m\u001b[0m\n",
      "\u001b[0;31mNameError\u001b[0m: name 'x' is not defined"
     ]
    }
   ],
   "source": [
    "Category_perc = top5_categoryperc.plot.pie(x=x, y=y)\n",
    "x= ['DISTRITO FEDERAL', 'MÉXICO', 'GUANAJUATO', 'NUEVO LEÓN', 'JALISCO']\n",
    "y= [top5_categoryperc('Categoría')]\n",
    "Category_perc.set_title('Porcentaje de Categoria por Estado')\n"
   ]
  },
  {
   "cell_type": "markdown",
   "metadata": {},
   "source": [
    "## Gráfica 5\n",
    "### Precio promedio de medicamentos 2015 por top 5 (max precio)\n",
    "\n",
    "Gráfica que ponga el top 5 de los estados con mayor precio en Mexico"
   ]
  },
  {
   "cell_type": "code",
   "execution_count": 53,
   "metadata": {},
   "outputs": [
    {
     "data": {
      "text/plain": [
       "379.6187374517428"
      ]
     },
     "execution_count": 53,
     "metadata": {},
     "output_type": "execute_result"
    }
   ],
   "source": [
    "avg_medprice = master_2015frame[master_2015frame['Categoría'] == 'MEDICAMENTOS'].groupby(\\\n",
    "                            ['Categoría'])['Precio'].mean().nlargest(32)\n",
    "#avg_medprice = avg_medprice['ID']\n",
    "avg_medprice = avg_medprice['MEDICAMENTOS']\n",
    "avg_medprice"
   ]
  },
  {
   "cell_type": "code",
   "execution_count": 83,
   "metadata": {
    "scrolled": true
   },
   "outputs": [
    {
     "data": {
      "text/plain": [
       "Estado               Categoría   \n",
       "SINALOA              MEDICAMENTOS    430.158429\n",
       "M��XICO              MEDICAMENTOS    421.190000\n",
       "SONORA               MEDICAMENTOS    416.815631\n",
       "MICHOACÁN DE OCAMPO  MEDICAMENTOS    415.290411\n",
       "DISTRITO FEDERAL     MEDICAMENTOS    405.847330\n",
       "Name: Precio, dtype: float64"
      ]
     },
     "execution_count": 83,
     "metadata": {},
     "output_type": "execute_result"
    }
   ],
   "source": [
    "avg_price = master_2015frame[master_2015frame['Categoría'] == 'MEDICAMENTOS'].groupby(\\\n",
    "                            ['Estado', 'Categoría'])['Precio'].mean().nlargest(5)\n",
    "avg_price\n"
   ]
  },
  {
   "cell_type": "code",
   "execution_count": 260,
   "metadata": {
    "scrolled": false
   },
   "outputs": [
    {
     "data": {
      "text/plain": [
       "Text(0.5,1,'Categorias de Medicamentos/ Estado')"
      ]
     },
     "execution_count": 260,
     "metadata": {},
     "output_type": "execute_result"
    },
    {
     "data": {
      "image/png": "[encoded data removed]",
      "text/plain": [
       "<Figure size 432x288 with 1 Axes>"
      ]
     },
     "metadata": {},
     "output_type": "display_data"
    }
   ],
   "source": [
    "Avg_price_State = avg_price.plot.pie()\n",
    "Avg_price_State.axis('equal')\n",
    "Avg_price_State.set_title('Categorias de Medicamentos/ Estado', fontsize = 18, color= 'DarkBlue')"
   ]
  },
  {
   "cell_type": "code",
   "execution_count": 55,
   "metadata": {
    "scrolled": true
   },
   "outputs": [
    {
     "data": {
      "text/html": [
       "<div>\n",
       "<style scoped>\n",
       "    .dataframe tbody tr th:only-of-type {\n",
       "        vertical-align: middle;\n",
       "    }\n",
       "\n",
       "    .dataframe tbody tr th {\n",
       "        vertical-align: top;\n",
       "    }\n",
       "\n",
       "    .dataframe thead th {\n",
       "        text-align: right;\n",
       "    }\n",
       "</style>\n",
       "<table border=\"1\" class=\"dataframe\">\n",
       "  <thead>\n",
       "    <tr style=\"text-align: right;\">\n",
       "      <th></th>\n",
       "      <th>Precio</th>\n",
       "    </tr>\n",
       "    <tr>\n",
       "      <th>Estado</th>\n",
       "      <th></th>\n",
       "    </tr>\n",
       "  </thead>\n",
       "  <tbody>\n",
       "    <tr>\n",
       "      <th>SINALOA</th>\n",
       "      <td>430.158429</td>\n",
       "    </tr>\n",
       "    <tr>\n",
       "      <th>M��XICO</th>\n",
       "      <td>421.190000</td>\n",
       "    </tr>\n",
       "    <tr>\n",
       "      <th>SONORA</th>\n",
       "      <td>416.815631</td>\n",
       "    </tr>\n",
       "    <tr>\n",
       "      <th>MICHOACÁN DE OCAMPO</th>\n",
       "      <td>415.290411</td>\n",
       "    </tr>\n",
       "    <tr>\n",
       "      <th>DISTRITO FEDERAL</th>\n",
       "      <td>405.847330</td>\n",
       "    </tr>\n",
       "  </tbody>\n",
       "</table>\n",
       "</div>"
      ],
      "text/plain": [
       "                         Precio\n",
       "Estado                         \n",
       "SINALOA              430.158429\n",
       "M��XICO              421.190000\n",
       "SONORA               416.815631\n",
       "MICHOACÁN DE OCAMPO  415.290411\n",
       "DISTRITO FEDERAL     405.847330"
      ]
     },
     "execution_count": 55,
     "metadata": {},
     "output_type": "execute_result"
    }
   ],
   "source": [
    "top5_price = pd.DataFrame([avg_price])\n",
    "top5_price.columns = top5_price.columns.droplevel(-1)\n",
    "#Data Frame con el Top 5 de estados con mayores registros de medicamentos\n",
    "top5_price.transpose()"
   ]
  },
  {
   "cell_type": "code",
   "execution_count": 271,
   "metadata": {},
   "outputs": [
    {
     "data": {
      "image/png": "[encoded data removed]",
      "text/plain": [
       "<Figure size 432x288 with 1 Axes>"
      ]
     },
     "metadata": {
      "needs_background": "light"
     },
     "output_type": "display_data"
    }
   ],
   "source": [
    "TOP_PRICE = top5_price.plot.bar()\n"
   ]
  },
  {
   "cell_type": "markdown",
   "metadata": {},
   "source": [
    "## Gráfica 6\n",
    "### % prima o descuento de precio promedio en medicamentos por el top 5 de Estados con mayor precio\n",
    "\n",
    "Esta es una métrica que saqué aparte y creo que si es posible podríamos fusionar la primera con la gráfica5 y podemos hacer una gráfica combinada de barras y línea para que salgan ambas métricas. pero l oque sea más fácil"
   ]
  },
  {
   "cell_type": "code",
   "execution_count": 13,
   "metadata": {
    "scrolled": true
   },
   "outputs": [
    {
     "data": {
      "text/html": [
       "<style  type=\"text/css\" >\n",
       "</style>  \n",
       "<table id=\"T_e2a0735c_1949_11e9_9ab6_60f81daf787e\" > \n",
       "<thead>    <tr> \n",
       "        <th class=\"blank level0\" ></th> \n",
       "        <th class=\"col_heading level0 col0\" >Precio</th> \n",
       "    </tr>    <tr> \n",
       "        <th class=\"index_name level0\" >Estado</th> \n",
       "        <th class=\"blank\" ></th> \n",
       "    </tr></thead> \n",
       "<tbody>    <tr> \n",
       "        <th id=\"T_e2a0735c_1949_11e9_9ab6_60f81daf787elevel0_row0\" class=\"row_heading level0 row0\" >SINALOA</th> \n",
       "        <td id=\"T_e2a0735c_1949_11e9_9ab6_60f81daf787erow0_col0\" class=\"data row0 col0\" >13.31%</td> \n",
       "    </tr>    <tr> \n",
       "        <th id=\"T_e2a0735c_1949_11e9_9ab6_60f81daf787elevel0_row1\" class=\"row_heading level0 row1\" >M��XICO</th> \n",
       "        <td id=\"T_e2a0735c_1949_11e9_9ab6_60f81daf787erow1_col0\" class=\"data row1 col0\" >10.95%</td> \n",
       "    </tr>    <tr> \n",
       "        <th id=\"T_e2a0735c_1949_11e9_9ab6_60f81daf787elevel0_row2\" class=\"row_heading level0 row2\" >SONORA</th> \n",
       "        <td id=\"T_e2a0735c_1949_11e9_9ab6_60f81daf787erow2_col0\" class=\"data row2 col0\" >9.80%</td> \n",
       "    </tr>    <tr> \n",
       "        <th id=\"T_e2a0735c_1949_11e9_9ab6_60f81daf787elevel0_row3\" class=\"row_heading level0 row3\" >MICHOACÁN DE OCAMPO</th> \n",
       "        <td id=\"T_e2a0735c_1949_11e9_9ab6_60f81daf787erow3_col0\" class=\"data row3 col0\" >9.40%</td> \n",
       "    </tr>    <tr> \n",
       "        <th id=\"T_e2a0735c_1949_11e9_9ab6_60f81daf787elevel0_row4\" class=\"row_heading level0 row4\" >DISTRITO FEDERAL</th> \n",
       "        <td id=\"T_e2a0735c_1949_11e9_9ab6_60f81daf787erow4_col0\" class=\"data row4 col0\" >6.91%</td> \n",
       "    </tr></tbody> \n",
       "</table> "
      ],
      "text/plain": [
       "<pandas.io.formats.style.Styler at 0x11b209b70>"
      ]
     },
     "execution_count": 13,
     "metadata": {},
     "output_type": "execute_result"
    }
   ],
   "source": [
    "top5_priceperc = top5_price / avg_medprice - 1\n",
    "top5_priceperc.transpose().style.format(\"{:.2%}\")"
   ]
  },
  {
   "cell_type": "code",
   "execution_count": 86,
   "metadata": {},
   "outputs": [
    {
     "data": {
      "text/plain": [
       "<matplotlib.axes._subplots.AxesSubplot at 0x1227f5320>"
      ]
     },
     "execution_count": 86,
     "metadata": {},
     "output_type": "execute_result"
    },
    {
     "data": {
      "image/png": "[encoded data removed]",
      "text/plain": [
       "<Figure size 432x288 with 1 Axes>"
      ]
     },
     "metadata": {
      "needs_background": "light"
     },
     "output_type": "display_data"
    }
   ],
   "source": [
    "top5_priceperc.plot.bar()"
   ]
  },
  {
   "cell_type": "code",
   "execution_count": 14,
   "metadata": {},
   "outputs": [
    {
     "data": {
      "text/plain": [
       "Cadena                   Categoría   \n",
       "WAL-MART                 MEDICAMENTOS    3463\n",
       "SORIANA                  MEDICAMENTOS    3117\n",
       "BODEGA AURRERA           MEDICAMENTOS    2803\n",
       "MEGA COMERCIAL MEXICANA  MEDICAMENTOS    1967\n",
       "SUPERAMA                 MEDICAMENTOS    1673\n",
       "Name: Categoría, dtype: int64"
      ]
     },
     "execution_count": 14,
     "metadata": {},
     "output_type": "execute_result"
    }
   ],
   "source": [
    "chain_category = master_2015frame[master_2015frame['Categoría'] == 'MEDICAMENTOS'].groupby(\\\n",
    "                            ['Cadena', 'Categoría'])['Categoría'].count().nlargest(5)\n",
    "chain_category"
   ]
  },
  {
   "cell_type": "markdown",
   "metadata": {},
   "source": [
    "## Gráfica 7\n",
    "### Count de categoría por Cadena top5\n",
    "\n",
    "Aquí tienes que hacer un chart con el número de categorías por Top 5 de cadenaS - Eje X = Cadena Eje Y = Categoría"
   ]
  },
  {
   "cell_type": "code",
   "execution_count": 15,
   "metadata": {
    "scrolled": true
   },
   "outputs": [
    {
     "data": {
      "text/html": [
       "<div>\n",
       "<style scoped>\n",
       "    .dataframe tbody tr th:only-of-type {\n",
       "        vertical-align: middle;\n",
       "    }\n",
       "\n",
       "    .dataframe tbody tr th {\n",
       "        vertical-align: top;\n",
       "    }\n",
       "\n",
       "    .dataframe thead th {\n",
       "        text-align: right;\n",
       "    }\n",
       "</style>\n",
       "<table border=\"1\" class=\"dataframe\">\n",
       "  <thead>\n",
       "    <tr style=\"text-align: right;\">\n",
       "      <th></th>\n",
       "      <th>Cadena</th>\n",
       "      <th>Categoría</th>\n",
       "    </tr>\n",
       "  </thead>\n",
       "  <tbody>\n",
       "    <tr>\n",
       "      <th>0</th>\n",
       "      <td>WAL-MART</td>\n",
       "      <td>3463</td>\n",
       "    </tr>\n",
       "    <tr>\n",
       "      <th>1</th>\n",
       "      <td>SORIANA</td>\n",
       "      <td>3117</td>\n",
       "    </tr>\n",
       "    <tr>\n",
       "      <th>2</th>\n",
       "      <td>BODEGA AURRERA</td>\n",
       "      <td>2803</td>\n",
       "    </tr>\n",
       "    <tr>\n",
       "      <th>3</th>\n",
       "      <td>MEGA COMERCIAL MEXICANA</td>\n",
       "      <td>1967</td>\n",
       "    </tr>\n",
       "    <tr>\n",
       "      <th>4</th>\n",
       "      <td>SUPERAMA</td>\n",
       "      <td>1673</td>\n",
       "    </tr>\n",
       "  </tbody>\n",
       "</table>\n",
       "</div>"
      ],
      "text/plain": [
       "                    Cadena  Categoría\n",
       "0                 WAL-MART       3463\n",
       "1                  SORIANA       3117\n",
       "2           BODEGA AURRERA       2803\n",
       "3  MEGA COMERCIAL MEXICANA       1967\n",
       "4                 SUPERAMA       1673"
      ]
     },
     "execution_count": 15,
     "metadata": {},
     "output_type": "execute_result"
    }
   ],
   "source": [
    "top5_chain = pd.DataFrame([chain_category])\n",
    "top5_chain.columns = top5_chain.columns.droplevel(-1)\n",
    "#Data Frame con el Top 5 de estados con mayores registros de medicamentos\n",
    "top5_chain.transpose().reset_index()"
   ]
  },
  {
   "cell_type": "code",
   "execution_count": 213,
   "metadata": {},
   "outputs": [
    {
     "data": {
      "text/plain": [
       "Text(0.5,1,'Categorias de Medicamentos/ Estado')"
      ]
     },
     "execution_count": 213,
     "metadata": {},
     "output_type": "execute_result"
    },
    {
     "data": {
      "image/png": "[encoded data removed]",
      "text/plain": [
       "<Figure size 432x288 with 1 Axes>"
      ]
     },
     "metadata": {
      "needs_background": "light"
     },
     "output_type": "display_data"
    }
   ],
   "source": [
    "Top5Chaincat = top5_chain.plot.barh()\n",
    "Top5Chaincat.set_title('Categorias de Medicamentos/ Estado', fontsize = 18, color= 'DarkBlue')"
   ]
  },
  {
   "cell_type": "markdown",
   "metadata": {},
   "source": [
    "## Gráfica 8\n",
    "### % del total de productos de la categoría medicamentos por Cadena Comercial\n",
    "\n",
    "Esta es una métrica que saqué aparte y creo que si es posible podríamos fusionar la primera con la gráfica7 y podemos hacer una gráfica combinada de barras y línea para que salgan ambas métricas. pero l oque sea más fácil"
   ]
  },
  {
   "cell_type": "code",
   "execution_count": 16,
   "metadata": {
    "scrolled": true
   },
   "outputs": [
    {
     "data": {
      "text/html": [
       "<style  type=\"text/css\" >\n",
       "</style>  \n",
       "<table id=\"T_e970ecca_1949_11e9_9ab6_60f81daf787e\" > \n",
       "<thead>    <tr> \n",
       "        <th class=\"blank level0\" ></th> \n",
       "        <th class=\"col_heading level0 col0\" >Categoría</th> \n",
       "    </tr>    <tr> \n",
       "        <th class=\"index_name level0\" >Cadena</th> \n",
       "        <th class=\"blank\" ></th> \n",
       "    </tr></thead> \n",
       "<tbody>    <tr> \n",
       "        <th id=\"T_e970ecca_1949_11e9_9ab6_60f81daf787elevel0_row0\" class=\"row_heading level0 row0\" >WAL-MART</th> \n",
       "        <td id=\"T_e970ecca_1949_11e9_9ab6_60f81daf787erow0_col0\" class=\"data row0 col0\" >16.71%</td> \n",
       "    </tr>    <tr> \n",
       "        <th id=\"T_e970ecca_1949_11e9_9ab6_60f81daf787elevel0_row1\" class=\"row_heading level0 row1\" >SORIANA</th> \n",
       "        <td id=\"T_e970ecca_1949_11e9_9ab6_60f81daf787erow1_col0\" class=\"data row1 col0\" >15.04%</td> \n",
       "    </tr>    <tr> \n",
       "        <th id=\"T_e970ecca_1949_11e9_9ab6_60f81daf787elevel0_row2\" class=\"row_heading level0 row2\" >BODEGA AURRERA</th> \n",
       "        <td id=\"T_e970ecca_1949_11e9_9ab6_60f81daf787erow2_col0\" class=\"data row2 col0\" >13.53%</td> \n",
       "    </tr>    <tr> \n",
       "        <th id=\"T_e970ecca_1949_11e9_9ab6_60f81daf787elevel0_row3\" class=\"row_heading level0 row3\" >MEGA COMERCIAL MEXICANA</th> \n",
       "        <td id=\"T_e970ecca_1949_11e9_9ab6_60f81daf787erow3_col0\" class=\"data row3 col0\" >9.49%</td> \n",
       "    </tr>    <tr> \n",
       "        <th id=\"T_e970ecca_1949_11e9_9ab6_60f81daf787elevel0_row4\" class=\"row_heading level0 row4\" >SUPERAMA</th> \n",
       "        <td id=\"T_e970ecca_1949_11e9_9ab6_60f81daf787erow4_col0\" class=\"data row4 col0\" >8.07%</td> \n",
       "    </tr></tbody> \n",
       "</table> "
      ],
      "text/plain": [
       "<pandas.io.formats.style.Styler at 0x11b209e10>"
      ]
     },
     "execution_count": 16,
     "metadata": {},
     "output_type": "execute_result"
    }
   ],
   "source": [
    "top5_chainperc = top5_chain / category_total\n",
    "top5_chainperc.transpose().style.format(\"{:.2%}\")"
   ]
  },
  {
   "cell_type": "code",
   "execution_count": 250,
   "metadata": {},
   "outputs": [
    {
     "data": {
      "text/plain": [
       "(-0.275, 0.275, 0.0, 0.17548986486486487)"
      ]
     },
     "execution_count": 250,
     "metadata": {},
     "output_type": "execute_result"
    },
    {
     "data": {
      "image/png": "[encoded data removed]",
      "text/plain": [
       "<Figure size 432x288 with 1 Axes>"
      ]
     },
     "metadata": {
      "needs_background": "light"
     },
     "output_type": "display_data"
    }
   ],
   "source": [
    "Top5ChainPerc = top5_chainperc.plot.bar()\n",
    "Top5ChainPerc.set_title('Categorias de Medicamentos/ Estado', fontsize = 18, color= 'DarkBlue')\n",
    "Top5ChainPerc.axis('equal')"
   ]
  },
  {
   "cell_type": "code",
   "execution_count": 17,
   "metadata": {
    "scrolled": true
   },
   "outputs": [
    {
     "data": {
      "text/plain": [
       "Cadena\n",
       "FARMACIA DEL HOSPITAL     536.142281\n",
       "SANBORN S HNOS.           471.622358\n",
       "FARMATODO                 464.985363\n",
       "I.S.S.S.T.E.              454.451348\n",
       "SUPERMERCADOS SANTA FE    453.014864\n",
       "Name: Precio, dtype: float64"
      ]
     },
     "execution_count": 17,
     "metadata": {},
     "output_type": "execute_result"
    }
   ],
   "source": [
    "chain_price = master_2015frame[master_2015frame['Categoría'] == 'MEDICAMENTOS'].groupby(\\\n",
    "                            ['Cadena'])['Precio'].mean().nlargest(5)\n",
    "chain_price"
   ]
  },
  {
   "cell_type": "code",
   "execution_count": 265,
   "metadata": {},
   "outputs": [
    {
     "data": {
      "text/plain": [
       "Text(0.5,1,'Categorias de Medicamentos/ Estado')"
      ]
     },
     "execution_count": 265,
     "metadata": {},
     "output_type": "execute_result"
    },
    {
     "data": {
      "image/png": "[encoded data removed]",
      "text/plain": [
       "<Figure size 432x288 with 1 Axes>"
      ]
     },
     "metadata": {
      "needs_background": "light"
     },
     "output_type": "display_data"
    }
   ],
   "source": [
    "Chainpriceplot = chain_price.plot.barh()\n",
    "Chainpriceplot.set_title('Categorias de Medicamentos/ Estado', fontsize = 18, color= 'DarkBlue')"
   ]
  },
  {
   "cell_type": "markdown",
   "metadata": {},
   "source": [
    "## Gráfica 9\n",
    "### Precio promedio de medicamentos 2015 por top 5 cadenas (max precio)\n",
    "\n",
    "Gráfica que ponga el top 5 de las cadenas con mayor precio en Mexico"
   ]
  },
  {
   "cell_type": "code",
   "execution_count": 18,
   "metadata": {
    "scrolled": true
   },
   "outputs": [
    {
     "data": {
      "text/html": [
       "<div>\n",
       "<style scoped>\n",
       "    .dataframe tbody tr th:only-of-type {\n",
       "        vertical-align: middle;\n",
       "    }\n",
       "\n",
       "    .dataframe tbody tr th {\n",
       "        vertical-align: top;\n",
       "    }\n",
       "\n",
       "    .dataframe thead th {\n",
       "        text-align: right;\n",
       "    }\n",
       "</style>\n",
       "<table border=\"1\" class=\"dataframe\">\n",
       "  <thead>\n",
       "    <tr style=\"text-align: right;\">\n",
       "      <th></th>\n",
       "      <th>Precio</th>\n",
       "    </tr>\n",
       "    <tr>\n",
       "      <th>Cadena</th>\n",
       "      <th></th>\n",
       "    </tr>\n",
       "  </thead>\n",
       "  <tbody>\n",
       "    <tr>\n",
       "      <th>FARMACIA DEL HOSPITAL</th>\n",
       "      <td>536.142281</td>\n",
       "    </tr>\n",
       "    <tr>\n",
       "      <th>SANBORN S HNOS.</th>\n",
       "      <td>471.622358</td>\n",
       "    </tr>\n",
       "    <tr>\n",
       "      <th>FARMATODO</th>\n",
       "      <td>464.985363</td>\n",
       "    </tr>\n",
       "    <tr>\n",
       "      <th>I.S.S.S.T.E.</th>\n",
       "      <td>454.451348</td>\n",
       "    </tr>\n",
       "    <tr>\n",
       "      <th>SUPERMERCADOS SANTA FE</th>\n",
       "      <td>453.014864</td>\n",
       "    </tr>\n",
       "  </tbody>\n",
       "</table>\n",
       "</div>"
      ],
      "text/plain": [
       "                            Precio\n",
       "Cadena                            \n",
       "FARMACIA DEL HOSPITAL   536.142281\n",
       "SANBORN S HNOS.         471.622358\n",
       "FARMATODO               464.985363\n",
       "I.S.S.S.T.E.            454.451348\n",
       "SUPERMERCADOS SANTA FE  453.014864"
      ]
     },
     "execution_count": 18,
     "metadata": {},
     "output_type": "execute_result"
    }
   ],
   "source": [
    "top5_chainprice = pd.DataFrame([chain_price])\n",
    "#top5_chainprice.columns = top5_chain.columns.droplevel(-1)\n",
    "#Data Frame con el Top 5 de estados con mayores registros de medicamentos\n",
    "top5_chainprice.transpose()"
   ]
  },
  {
   "cell_type": "code",
   "execution_count": null,
   "metadata": {},
   "outputs": [],
   "source": []
  },
  {
   "cell_type": "markdown",
   "metadata": {},
   "source": [
    "## Gráfica 10\n",
    "### % prima o descuento de precio promedio en medicamentos por el top 5 de Cadenas con mayor precio\n",
    "\n",
    "Esta es una métrica que saqué aparte y creo que si es posible podríamos fusionar la primera con la gráfica9 y podemos hacer una gráfica combinada de barras y línea para que salgan ambas métricas. pero l oque sea más fácil"
   ]
  },
  {
   "cell_type": "code",
   "execution_count": 19,
   "metadata": {
    "scrolled": false
   },
   "outputs": [
    {
     "data": {
      "text/html": [
       "<style  type=\"text/css\" >\n",
       "</style>  \n",
       "<table id=\"T_ef60937e_1949_11e9_9ab6_60f81daf787e\" > \n",
       "<thead>    <tr> \n",
       "        <th class=\"blank level0\" ></th> \n",
       "        <th class=\"col_heading level0 col0\" >Precio</th> \n",
       "    </tr>    <tr> \n",
       "        <th class=\"index_name level0\" >Cadena</th> \n",
       "        <th class=\"blank\" ></th> \n",
       "    </tr></thead> \n",
       "<tbody>    <tr> \n",
       "        <th id=\"T_ef60937e_1949_11e9_9ab6_60f81daf787elevel0_row0\" class=\"row_heading level0 row0\" >FARMACIA DEL HOSPITAL</th> \n",
       "        <td id=\"T_ef60937e_1949_11e9_9ab6_60f81daf787erow0_col0\" class=\"data row0 col0\" >41.23%</td> \n",
       "    </tr>    <tr> \n",
       "        <th id=\"T_ef60937e_1949_11e9_9ab6_60f81daf787elevel0_row1\" class=\"row_heading level0 row1\" >SANBORN S HNOS.</th> \n",
       "        <td id=\"T_ef60937e_1949_11e9_9ab6_60f81daf787erow1_col0\" class=\"data row1 col0\" >24.24%</td> \n",
       "    </tr>    <tr> \n",
       "        <th id=\"T_ef60937e_1949_11e9_9ab6_60f81daf787elevel0_row2\" class=\"row_heading level0 row2\" >FARMATODO</th> \n",
       "        <td id=\"T_ef60937e_1949_11e9_9ab6_60f81daf787erow2_col0\" class=\"data row2 col0\" >22.49%</td> \n",
       "    </tr>    <tr> \n",
       "        <th id=\"T_ef60937e_1949_11e9_9ab6_60f81daf787elevel0_row3\" class=\"row_heading level0 row3\" >I.S.S.S.T.E.</th> \n",
       "        <td id=\"T_ef60937e_1949_11e9_9ab6_60f81daf787erow3_col0\" class=\"data row3 col0\" >19.71%</td> \n",
       "    </tr>    <tr> \n",
       "        <th id=\"T_ef60937e_1949_11e9_9ab6_60f81daf787elevel0_row4\" class=\"row_heading level0 row4\" >SUPERMERCADOS SANTA FE</th> \n",
       "        <td id=\"T_ef60937e_1949_11e9_9ab6_60f81daf787erow4_col0\" class=\"data row4 col0\" >19.33%</td> \n",
       "    </tr></tbody> \n",
       "</table> "
      ],
      "text/plain": [
       "<pandas.io.formats.style.Styler at 0x11ae78940>"
      ]
     },
     "execution_count": 19,
     "metadata": {},
     "output_type": "execute_result"
    }
   ],
   "source": [
    "top5_chainpriceperc = top5_chainprice / avg_medprice - 1\n",
    "top5_chainpriceperc.transpose().style.format(\"{:.2%}\")"
   ]
  },
  {
   "cell_type": "code",
   "execution_count": 225,
   "metadata": {},
   "outputs": [
    {
     "ename": "AttributeError",
     "evalue": "'FramePlotMethods' object has no attribute 'violinplot'",
     "output_type": "error",
     "traceback": [
      "\u001b[0;31m---------------------------------------------------------------------------\u001b[0m",
      "\u001b[0;31mAttributeError\u001b[0m                            Traceback (most recent call last)",
      "\u001b[0;32m<ipython-input-225-defec3c10215>\u001b[0m in \u001b[0;36m<module>\u001b[0;34m()\u001b[0m\n\u001b[0;32m----> 1\u001b[0;31m \u001b[0mtop5_chainpriceperc\u001b[0m\u001b[0;34m.\u001b[0m\u001b[0mplot\u001b[0m\u001b[0;34m.\u001b[0m\u001b[0mviolinplot\u001b[0m\u001b[0;34m(\u001b[0m\u001b[0;34m)\u001b[0m\u001b[0;34m\u001b[0m\u001b[0m\n\u001b[0m",
      "\u001b[0;31mAttributeError\u001b[0m: 'FramePlotMethods' object has no attribute 'violinplot'"
     ]
    }
   ],
   "source": [
    "top5_chainpriceperc.plot.violinplot()"
   ]
  },
  {
   "cell_type": "code",
   "execution_count": 211,
   "metadata": {},
   "outputs": [
    {
     "ename": "TypeError",
     "evalue": "argument of type 'SeriesPlotMethods' is not iterable",
     "output_type": "error",
     "traceback": [
      "\u001b[0;31m---------------------------------------------------------------------------\u001b[0m",
      "\u001b[0;31mTypeError\u001b[0m                                 Traceback (most recent call last)",
      "\u001b[0;32m<ipython-input-211-da7b6eb8698d>\u001b[0m in \u001b[0;36m<module>\u001b[0;34m()\u001b[0m\n\u001b[0;32m----> 1\u001b[0;31m \u001b[0my\u001b[0m\u001b[0;34m=\u001b[0m \u001b[0;34m\"chain_price\"\u001b[0m \u001b[0;32min\u001b[0m \u001b[0mchain_price\u001b[0m\u001b[0;34m.\u001b[0m\u001b[0mplot\u001b[0m\u001b[0;34m\u001b[0m\u001b[0m\n\u001b[0m\u001b[1;32m      2\u001b[0m \u001b[0mtop5_chainpriceperc\u001b[0m\u001b[0;34m.\u001b[0m\u001b[0mplot\u001b[0m\u001b[0;34m.\u001b[0m\u001b[0mscatter\u001b[0m\u001b[0;34m(\u001b[0m\u001b[0;34m)\u001b[0m\u001b[0;34m\u001b[0m\u001b[0m\n",
      "\u001b[0;31mTypeError\u001b[0m: argument of type 'SeriesPlotMethods' is not iterable"
     ]
    }
   ],
   "source": [
    "y= \"chain_price\" in chain_price.plot\n",
    "top5_chainpriceperc.plot.scatter()\n"
   ]
  },
  {
   "cell_type": "markdown",
   "metadata": {},
   "source": [
    "# A huevo, nos la pela esto"
   ]
  },
  {
   "cell_type": "code",
   "execution_count": null,
   "metadata": {},
   "outputs": [],
   "source": []
  }
 ],
 "metadata": {
  "kernelspec": {
   "display_name": "Python 3",
   "language": "python",
   "name": "python3"
  },
  "language_info": {
   "codemirror_mode": {
    "name": "ipython",
    "version": 3
   },
   "file_extension": ".py",
   "mimetype": "text/x-python",
   "name": "python",
   "nbconvert_exporter": "python",
   "pygments_lexer": "ipython3",
   "version": "3.7.0"
  }
 },
 "nbformat": 4,
 "nbformat_minor": 2
}
